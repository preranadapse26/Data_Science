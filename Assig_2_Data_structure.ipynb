{
 "cells": [
  {
   "cell_type": "markdown",
   "id": "a9cefd01-7bda-406e-97a4-c867cda8567d",
   "metadata": {},
   "source": [
    "Data Types and Structures Questions"
   ]
  },
  {
   "cell_type": "code",
   "execution_count": null,
   "id": "92346fed-9cf2-4913-acdb-82ba11218402",
   "metadata": {},
   "outputs": [],
   "source": [
    "# 1) What are data structures, and why are they important?\n",
    "# === data stucture are the way of organizing , storing data and manipulating data.\n",
    "#     data structure are important as it gives the flexibility to store different type of data,to access data,to perform    different operation on data .  "
   ]
  },
  {
   "cell_type": "code",
   "execution_count": null,
   "id": "ebb50022-4d27-4dde-aaab-3355605d7a8e",
   "metadata": {},
   "outputs": [],
   "source": [
    "#  2)Explain the difference between mutable and immutable data types with examples?\n",
    "# ===$ mutable\n",
    "#   -mulable data types follow the item assignment property.\n",
    "#   -we can change the values in mutable data types.\n",
    "#   -example :list ,Dictionary\n",
    "\n",
    "#    $ immutable\n",
    "#    -immutable data types does not follow item assignmment property.\n",
    "#    -we cant change the value of immutable data type one's given\n",
    "#    -example : String ,tuple"
   ]
  },
  {
   "cell_type": "code",
   "execution_count": null,
   "id": "efb1c9a7-ea8b-4e1c-a98b-ec3f8e9cec9b",
   "metadata": {},
   "outputs": [],
   "source": [
    "# 3) What are the main differences between lists and tuples in Python?\n",
    "# ===$ Lists\n",
    "#  - list are mutable data type.\n",
    "#  - We can store values which we can change in future.\n",
    "\n",
    "#   $Tuple \n",
    "#  - tuple are immutable data type\n",
    "#  - We store values which are unique and cant be change."
   ]
  },
  {
   "cell_type": "code",
   "execution_count": null,
   "id": "6bf8790e-0595-4596-9c7c-fddc9592652b",
   "metadata": {},
   "outputs": [],
   "source": [
    "# 4)Describe how dictionaries store data\n",
    "# === dictionary store data in the form of key value pairs,every key contain an unique value.\n",
    "# syntax:dictonary_ = {'key_1':'value_1',\"key_2\":\"value_2\"}"
   ]
  },
  {
   "cell_type": "code",
   "execution_count": null,
   "id": "036f498b-4a8e-4d5c-b571-603db482961a",
   "metadata": {},
   "outputs": [],
   "source": [
    "# 5)  Why might you use a set instead of a list in Python?\n",
    "# === we can use set instead of list because set are also mutable and can store different types\n",
    "# of data but instead of repeating same value it only store one unique value ,set is collection of \n",
    "# unique values."
   ]
  },
  {
   "cell_type": "code",
   "execution_count": null,
   "id": "3f9914a5-81fd-4470-9aca-2981b342890b",
   "metadata": {},
   "outputs": [],
   "source": [
    "# 6) What is a string in Python, and how is it different from a list?\n",
    "# === string is a sequence of character stored in specific sequence.\n",
    "# string is different from list as it is immutable in nature and can only store string data type ."
   ]
  },
  {
   "cell_type": "code",
   "execution_count": null,
   "id": "96f2af7e-235c-4548-a6ac-19b88e450bfc",
   "metadata": {},
   "outputs": [],
   "source": [
    "# 7) How do tuples ensure data integrity in Python?\n",
    "#  --- tuples insure data integrity with the help of immutability.As data in tuple is immutable once data\n",
    "# is stored in tuple can't be modified or cant be changed this increases the reliability of data as\n",
    "# it cant be changed by any unotherized user or person."
   ]
  },
  {
   "cell_type": "code",
   "execution_count": null,
   "id": "82d1a7f6-f59c-4614-a6c8-0b3e1c5c7dbd",
   "metadata": {},
   "outputs": [],
   "source": [
    "# 8)What is a hash table, and how does it relate to dictionaries in Python?\n",
    "# ---hash table is table which contains value in key value format and keys as generated with the \n",
    "# help of hash function. Similar to hash table dictionaries also contain values in key value format."
   ]
  },
  {
   "cell_type": "code",
   "execution_count": null,
   "id": "ead41e8d-d5c0-4ef4-91fd-797bf819083a",
   "metadata": {},
   "outputs": [],
   "source": [
    "# 9)Can lists contain different data types in Python?\n",
    "# ---Yes. list can contain different data types such as string ,integer ,float,boolean.|"
   ]
  },
  {
   "cell_type": "code",
   "execution_count": null,
   "id": "a4abfa69-03e7-4a38-99dd-ef5b071d4152",
   "metadata": {},
   "outputs": [],
   "source": [
    "# 10)Explain why strings are immutable in Python?\n",
    "# ---strings are immutable in python to ensure data consistency,integrity ,safety and efficiency."
   ]
  },
  {
   "cell_type": "code",
   "execution_count": null,
   "id": "c1de6be9-91dd-45f2-b734-9769e0b7311a",
   "metadata": {},
   "outputs": [],
   "source": [
    "# 11)What advantages do dictionaries offer over lists for certain tasks?\n",
    "# ---dictionaries increses the readability and accessibility of data. Dictionaries offer key\n",
    "# value pairs of data which simplifies the data accessing .For every value of data there is a \n",
    "# unique key.For tasks such as accessing a employee data dictionaries are more useful as it provides \n",
    "# data in key value pairs."
   ]
  },
  {
   "cell_type": "code",
   "execution_count": null,
   "id": "92bc901c-d310-431c-9d03-230b81627311",
   "metadata": {},
   "outputs": [],
   "source": [
    "# 12)Describe a scenario where using a tuple would be preferable over a list.\n",
    "# ---In senarios where data changes are not require using tuple over list will be preferable.\n",
    "# consider bank transaction details that should not change in any situations so using tuple will be \n",
    "# more preferable in that senario."
   ]
  },
  {
   "cell_type": "code",
   "execution_count": null,
   "id": "362c850c-23bd-4333-ad8a-3f135694bb88",
   "metadata": {},
   "outputs": [],
   "source": [
    "# 13)How do sets handle duplicate values in Python?\n",
    "# --- set does not allow duplicate values .If we insert duplicate values then set retains only one \n",
    "# value and removes the duplicate."
   ]
  },
  {
   "cell_type": "code",
   "execution_count": null,
   "id": "fbfb8886-7357-4187-ba24-6e08f39539b6",
   "metadata": {},
   "outputs": [],
   "source": [
    "# 14)How does the “in” keyword work differently for lists and dictionaries?\n",
    "# --- 'in' keyword in list works on values present in list and 'in' keyword in dictionaries works on \n",
    "# keys present in dictinaries."
   ]
  },
  {
   "cell_type": "code",
   "execution_count": null,
   "id": "10d0e0f1-de10-4193-9968-8aea1746787d",
   "metadata": {},
   "outputs": [],
   "source": [
    "# 15)Can you modify the elements of a tuple? Explain why or why not?\n",
    "# --- We cant modify the elements of a tuple .\n",
    "# because tuple is immutable data structure ,it doesnt allow item assignment .Once tuple is define \n",
    "# values cant be changed or modified."
   ]
  },
  {
   "cell_type": "code",
   "execution_count": null,
   "id": "b26f6680-e8ee-43bd-aff0-2fee95b6df59",
   "metadata": {},
   "outputs": [],
   "source": [
    "# 16)What is a nested dictionary, and give an example of its use case?\n",
    "# ---nested dictionary means defining a dictionary inside a dictionary.\n",
    "# use case -Employee data of a company\n"
   ]
  },
  {
   "cell_type": "code",
   "execution_count": 3,
   "id": "a2766220-fa06-4112-a4f0-bddf10be0116",
   "metadata": {},
   "outputs": [
    {
     "data": {
      "text/plain": [
       "{'employee1': {'name': 'A', 'age': 21, 'contact': 345},\n",
       " 'employee2': {'name': 'B', 'age': 32, 'contact': 678}}"
      ]
     },
     "execution_count": 3,
     "metadata": {},
     "output_type": "execute_result"
    }
   ],
   "source": [
    "dict_company = {\"employee1\":{\"name\":\"A\",\"age\":21,\"contact\":345},\n",
    "                \"employee2\":{\"name\":\"B\",\"age\":32,\"contact\":678}}\n",
    "dict_company"
   ]
  },
  {
   "cell_type": "code",
   "execution_count": null,
   "id": "c81db373-c82c-4271-bbc7-3b6ee3690850",
   "metadata": {},
   "outputs": [],
   "source": [
    "# 17)Describe the time complexity of accessing elements in a dictionary.\n",
    "# --- Time complexity of accessing elements in dictionary is O(1) because dictinaries work on hash values\n",
    "# with constant time complexity on an average."
   ]
  },
  {
   "cell_type": "code",
   "execution_count": null,
   "id": "1f6a0b31-7bd6-42ef-907d-7bdab71c16fd",
   "metadata": {},
   "outputs": [],
   "source": [
    "# 18) In what situations are lists preferred over dictionaries?\n",
    "# --- when we only want to store data such as string values ,list of integer where unique keys are not \n",
    "#     required.\n",
    "# - when we want to acccess data in the order of insertion .\n",
    "# - when we want index based retrival of data ."
   ]
  },
  {
   "cell_type": "code",
   "execution_count": null,
   "id": "37739376-bf5f-4a0c-9ce2-910c3660ce24",
   "metadata": {},
   "outputs": [],
   "source": [
    "# 19) Why are dictionaries considered unordered, and how does that affect data retrieval?\n",
    "# --- Dictionaries are considered as unordered because the doesnt retain the order of insertion data \n",
    "# can change its position ,key value pairs does not have any specific index. \n",
    "# It  affects data retrival as we cant access values from its index position."
   ]
  },
  {
   "cell_type": "code",
   "execution_count": null,
   "id": "0aebcbbb-1bc9-4a8a-a655-f600a56a436f",
   "metadata": {},
   "outputs": [],
   "source": [
    "# 20) Explain the difference between a list and a dictionary in terms of data retrieval.\n",
    "# ---list contains the fixed index position for each value in list so that we can access data with \n",
    "# the help of data index value.\n",
    "# - Dictionaries does not have index value for data so we cant retrive data with the help of index but \n",
    "# we can retrive data with help of unique keys."
   ]
  },
  {
   "cell_type": "code",
   "execution_count": null,
   "id": "b17b9f24-38c3-480f-a666-8f8d5b3723ce",
   "metadata": {},
   "outputs": [],
   "source": []
  },
  {
   "cell_type": "markdown",
   "id": "adba4154-3ff9-4520-8e4f-8254516f3836",
   "metadata": {},
   "source": [
    "Practical Question"
   ]
  },
  {
   "cell_type": "code",
   "execution_count": 8,
   "id": "cd341312-1fae-49d8-978b-3ac0c0cfdaf8",
   "metadata": {},
   "outputs": [
    {
     "data": {
      "text/plain": [
       "'Prerana Dapse'"
      ]
     },
     "execution_count": 8,
     "metadata": {},
     "output_type": "execute_result"
    }
   ],
   "source": [
    "# 1)Write a code to create a string with your name and print it.\n",
    "\n",
    "Str_1 = \"Prerana Dapse\"\n",
    "Str_1"
   ]
  },
  {
   "cell_type": "code",
   "execution_count": 10,
   "id": "71397c33-519e-45ce-b6bb-8ac9f38e539c",
   "metadata": {},
   "outputs": [
    {
     "data": {
      "text/plain": [
       "11"
      ]
     },
     "execution_count": 10,
     "metadata": {},
     "output_type": "execute_result"
    }
   ],
   "source": [
    "#2)Write a code to find the length of the string \"Hello World\".\n",
    "\n",
    "str_1 = \"Hello World\"\n",
    "len(str_1)"
   ]
  },
  {
   "cell_type": "code",
   "execution_count": 12,
   "id": "0f3c532b-046e-4606-9628-ee10084ae88c",
   "metadata": {},
   "outputs": [
    {
     "data": {
      "text/plain": [
       "'hon Programming'"
      ]
     },
     "execution_count": 12,
     "metadata": {},
     "output_type": "execute_result"
    }
   ],
   "source": [
    "#3)Write a code to slice the first 3 characters from the string \"Python Programming\"\n",
    "str = \"Python Programming\"\n",
    "str[3:]"
   ]
  },
  {
   "cell_type": "code",
   "execution_count": 16,
   "id": "a88d6880-16da-4536-b58a-1a2a4ceadece",
   "metadata": {},
   "outputs": [
    {
     "data": {
      "text/plain": [
       "'HELLO'"
      ]
     },
     "execution_count": 16,
     "metadata": {},
     "output_type": "execute_result"
    }
   ],
   "source": [
    "#4)Write a code to convert the string \"hello\" to uppercase?\n",
    "str = \"hello\"\n",
    "str = str.upper()\n",
    "\n",
    "str"
   ]
  },
  {
   "cell_type": "code",
   "execution_count": 18,
   "id": "5e4c5705-38f3-46a3-89ab-cb011e8f32b1",
   "metadata": {},
   "outputs": [
    {
     "data": {
      "text/plain": [
       "'I like orange'"
      ]
     },
     "execution_count": 18,
     "metadata": {},
     "output_type": "execute_result"
    }
   ],
   "source": [
    "#5) Write a code to replace the word \"apple\" with \"orange\" in the string \"I like apple\".\n",
    "str = \"I like apple\"\n",
    "str.replace(\"apple\",\"orange\")"
   ]
  },
  {
   "cell_type": "code",
   "execution_count": 134,
   "id": "afd9b767-41b1-4065-b9f8-632ba3a4d332",
   "metadata": {},
   "outputs": [
    {
     "data": {
      "text/plain": [
       "[1, 2, 3, 4, 5]"
      ]
     },
     "execution_count": 134,
     "metadata": {},
     "output_type": "execute_result"
    }
   ],
   "source": [
    "#6)Write a code to create a list with numbers 1 to 5 and print it.\n",
    "list1 = [1,2,3,4,5]\n",
    "list1"
   ]
  },
  {
   "cell_type": "code",
   "execution_count": 136,
   "id": "c33211a0-4d4a-42cc-8a00-af9ed0f1e091",
   "metadata": {},
   "outputs": [
    {
     "data": {
      "text/plain": [
       "[1, 2, 3, 4, 10]"
      ]
     },
     "execution_count": 136,
     "metadata": {},
     "output_type": "execute_result"
    }
   ],
   "source": [
    "#7)Write a code to append the number 10 to the list [1, 2, 3, 4].\n",
    "list2 =[1,2,3,4]\n",
    "list2.append(10)\n",
    "list2"
   ]
  },
  {
   "cell_type": "code",
   "execution_count": 138,
   "id": "87fb0ff7-8710-4f2f-b0da-738f2b6cfe45",
   "metadata": {},
   "outputs": [
    {
     "data": {
      "text/plain": [
       "[1, 2, 4, 5]"
      ]
     },
     "execution_count": 138,
     "metadata": {},
     "output_type": "execute_result"
    }
   ],
   "source": [
    "# 8)Write a code to remove the number 3 from the list [1, 2, 3, 4, 5].\n",
    "list2 = [1,2,3,4,5]\n",
    "list2.remove(3)\n",
    "list2"
   ]
  },
  {
   "cell_type": "code",
   "execution_count": 140,
   "id": "52b88a41-552c-4593-aa2d-a4dbcebe2630",
   "metadata": {},
   "outputs": [
    {
     "data": {
      "text/plain": [
       "'b'"
      ]
     },
     "execution_count": 140,
     "metadata": {},
     "output_type": "execute_result"
    }
   ],
   "source": [
    "#9) Write a code to access the second element in the list ['a', 'b', 'c', 'd']\n",
    "list =['a', 'b', 'c', 'd']\n",
    "list[1]"
   ]
  },
  {
   "cell_type": "code",
   "execution_count": 142,
   "id": "b32cfd06-bd96-4e14-8a2b-9cf4f2bebc52",
   "metadata": {},
   "outputs": [
    {
     "data": {
      "text/plain": [
       "[50, 40, 30, 20, 10]"
      ]
     },
     "execution_count": 142,
     "metadata": {},
     "output_type": "execute_result"
    }
   ],
   "source": [
    "#10) Write a code to reverse the list [10, 20, 30, 40, 50].\n",
    "list = [10,20,30,40,50]\n",
    "list.reverse()\n",
    "list"
   ]
  },
  {
   "cell_type": "code",
   "execution_count": 144,
   "id": "5ebe99fd-ba00-4944-9248-96148dd2fcad",
   "metadata": {},
   "outputs": [
    {
     "data": {
      "text/plain": [
       "(100, 200, 300)"
      ]
     },
     "execution_count": 144,
     "metadata": {},
     "output_type": "execute_result"
    }
   ],
   "source": [
    "#11)Write a code to create a tuple with the elements 100, 200, 300 and print it\n",
    "tuple = (100,200,300)\n",
    "tuple"
   ]
  },
  {
   "cell_type": "code",
   "execution_count": 146,
   "id": "99aedefa-8575-4a3e-9dcb-09b8c8d1ec9b",
   "metadata": {},
   "outputs": [
    {
     "data": {
      "text/plain": [
       "'blue'"
      ]
     },
     "execution_count": 146,
     "metadata": {},
     "output_type": "execute_result"
    }
   ],
   "source": [
    "#12) Write a code to access the second-to-last element of the tuple ('red', 'green', 'blue', 'yellow').\n",
    "tuple =('red', 'green', 'blue', 'yellow')\n",
    "tuple[-2]"
   ]
  },
  {
   "cell_type": "code",
   "execution_count": 148,
   "id": "db2a02da-cbb6-41f4-8435-fb130f9b369b",
   "metadata": {},
   "outputs": [
    {
     "data": {
      "text/plain": [
       "5"
      ]
     },
     "execution_count": 148,
     "metadata": {},
     "output_type": "execute_result"
    }
   ],
   "source": [
    "#13)Write a code to find the minimum number in the tuple (10, 20, 5, 15).\n",
    "tuple = (10,20,5,15)\n",
    "min(tuple)"
   ]
  },
  {
   "cell_type": "code",
   "execution_count": 150,
   "id": "36398220-6199-4d24-8c28-b682717e4b81",
   "metadata": {},
   "outputs": [
    {
     "data": {
      "text/plain": [
       "1"
      ]
     },
     "execution_count": 150,
     "metadata": {},
     "output_type": "execute_result"
    }
   ],
   "source": [
    "#14) Write a code to find the index of the element \"cat\" in the tuple ('dog', 'cat', 'rabbit').\n",
    "tuple =  ('dog', 'cat', 'rabbit')\n",
    "tuple.index(\"cat\")"
   ]
  },
  {
   "cell_type": "code",
   "execution_count": 152,
   "id": "3da01375-4c1e-4032-a653-0a84a289dd25",
   "metadata": {},
   "outputs": [
    {
     "data": {
      "text/plain": [
       "True"
      ]
     },
     "execution_count": 152,
     "metadata": {},
     "output_type": "execute_result"
    }
   ],
   "source": [
    "#15) Write a code to create a tuple containing three different fruits and check if \"kiwi\" is in it.\n",
    "tuple =(\"mango\",\"kiwi\",\"watermelon\")\n",
    "\"kiwi\" in tuple"
   ]
  },
  {
   "cell_type": "code",
   "execution_count": 154,
   "id": "bb769732-08dd-4524-9aa7-f3928634dfce",
   "metadata": {},
   "outputs": [
    {
     "name": "stdout",
     "output_type": "stream",
     "text": [
      "{'a', 'b', 'c'}\n"
     ]
    }
   ],
   "source": [
    "#16)Write a code to create a set with the elements 'a', 'b', 'c' and print it.\n",
    "set1 = {'a', 'b', 'c'}\n",
    "print(set1)"
   ]
  },
  {
   "cell_type": "code",
   "execution_count": 156,
   "id": "d3619b14-2b23-4fba-b1d5-fa5bf4657732",
   "metadata": {},
   "outputs": [
    {
     "data": {
      "text/plain": [
       "set()"
      ]
     },
     "execution_count": 156,
     "metadata": {},
     "output_type": "execute_result"
    }
   ],
   "source": [
    "#17)Write a code to clear all elements from the set {1, 2, 3, 4, 5}.\n",
    "set1 = {1, 2, 3, 4, 5}\n",
    "set1.clear()\n",
    "set1"
   ]
  },
  {
   "cell_type": "code",
   "execution_count": 158,
   "id": "345088f5-8eed-45c1-aa9a-d68891686219",
   "metadata": {},
   "outputs": [
    {
     "data": {
      "text/plain": [
       "{1, 2, 3}"
      ]
     },
     "execution_count": 158,
     "metadata": {},
     "output_type": "execute_result"
    }
   ],
   "source": [
    "#18) Write a code to remove the element 4 from the set {1, 2, 3, 4}\n",
    "set1 ={1,2,3,4}\n",
    "set1.remove(4)\n",
    "set1"
   ]
  },
  {
   "cell_type": "code",
   "execution_count": 160,
   "id": "3dfddd08-0773-4c51-9c6d-8074b78ff10f",
   "metadata": {},
   "outputs": [
    {
     "data": {
      "text/plain": [
       "{1, 2, 3, 4, 5}"
      ]
     },
     "execution_count": 160,
     "metadata": {},
     "output_type": "execute_result"
    }
   ],
   "source": [
    "#19)Write a code to find the union of two sets {1, 2, 3} and {3, 4, 5}.\n",
    "set1 ={1 ,2 ,3}\n",
    "set2 ={3, 4, 5}\n",
    "set1|set2"
   ]
  },
  {
   "cell_type": "code",
   "execution_count": 162,
   "id": "790b9332-8d5a-475a-9e3f-fcdeadd880c3",
   "metadata": {},
   "outputs": [
    {
     "data": {
      "text/plain": [
       "{3}"
      ]
     },
     "execution_count": 162,
     "metadata": {},
     "output_type": "execute_result"
    }
   ],
   "source": [
    "#20) Write a code to find the intersection of two sets {1, 2, 3} and {2, 3, 4}.\n",
    "set1 ={1 ,2 ,3}\n",
    "set2 ={3, 4, 5}\n",
    "set1 & set2"
   ]
  },
  {
   "cell_type": "code",
   "execution_count": 164,
   "id": "d8c6a2c6-9ee6-48c9-8f48-5ee994e4faba",
   "metadata": {},
   "outputs": [
    {
     "data": {
      "text/plain": [
       "{'name': 'Prerana', 'age': '20', 'city': 'Pune'}"
      ]
     },
     "execution_count": 164,
     "metadata": {},
     "output_type": "execute_result"
    }
   ],
   "source": [
    "#21) Write a code to create a dictionary with the keys \"name\", \"age\", and \"city\", and print it.\n",
    "dict = {\"name\":\"Prerana\",\"age\":\"20\",\"city\":\"Pune\"}\n",
    "dict"
   ]
  },
  {
   "cell_type": "code",
   "execution_count": 166,
   "id": "c382047c-66f1-4e6a-b37d-8e803e5711f6",
   "metadata": {},
   "outputs": [
    {
     "data": {
      "text/plain": [
       "{'name': 'John', 'age': 25, 'country': 'USA'}"
      ]
     },
     "execution_count": 166,
     "metadata": {},
     "output_type": "execute_result"
    }
   ],
   "source": [
    "#22)Write a code to add a new key-value pair \"country\": \"USA\" to the dictionary {'name': 'John', 'age': 25}.\n",
    "dict = {'name': 'John', 'age': 25}\n",
    "dict[\"country\"]=\"USA\"\n",
    "dict"
   ]
  },
  {
   "cell_type": "code",
   "execution_count": 168,
   "id": "46bea1c8-78ec-4a92-9429-02d1380f1dca",
   "metadata": {},
   "outputs": [
    {
     "data": {
      "text/plain": [
       "'Alice'"
      ]
     },
     "execution_count": 168,
     "metadata": {},
     "output_type": "execute_result"
    }
   ],
   "source": [
    "#23) Write a code to access the value associated with the key \"name\" in the dictionary {'name': 'Alice', 'age': 30}.\n",
    "dict ={'name': 'Alice', 'age': 30}\n",
    "dict[\"name\"]"
   ]
  },
  {
   "cell_type": "code",
   "execution_count": 170,
   "id": "3532dc42-97ac-45b6-9513-bd07af52558b",
   "metadata": {},
   "outputs": [
    {
     "data": {
      "text/plain": [
       "{'name': 'Bob', 'city': 'New York'}"
      ]
     },
     "execution_count": 170,
     "metadata": {},
     "output_type": "execute_result"
    }
   ],
   "source": [
    "#24)Write a code to remove the key \"age\" from the dictionary {'name': 'Bob', 'age': 22, 'city': 'New York'}.\n",
    "dict = {'name': 'Bob', 'age': 22, 'city': 'New York'}\n",
    "dict.pop(\"age\")\n",
    "dict"
   ]
  },
  {
   "cell_type": "code",
   "execution_count": 172,
   "id": "b4f8c6b3-2845-4954-8edd-b369a69a02e1",
   "metadata": {},
   "outputs": [
    {
     "data": {
      "text/plain": [
       "True"
      ]
     },
     "execution_count": 172,
     "metadata": {},
     "output_type": "execute_result"
    }
   ],
   "source": [
    "#25)Write a code to check if the key \"city\" exists in the dictionary {'name': 'Alice', 'city': 'Paris'}.\n",
    "dict = {'name': 'Alice', 'city': 'Paris'}\n",
    "\"city\" in dict"
   ]
  },
  {
   "cell_type": "code",
   "execution_count": 174,
   "id": "607c244a-e023-4716-bbfa-bf66c785ecb4",
   "metadata": {},
   "outputs": [
    {
     "name": "stdout",
     "output_type": "stream",
     "text": [
      "['apple', 'banana', 'orange']\n",
      "(1, 2, 3, 4, 5)\n",
      "{'name': 'Prerana', 'age': 21}\n"
     ]
    }
   ],
   "source": [
    "#26)Write a code to create a list, a tuple, and a dictionary, and print them all.\n",
    "list = [\"apple\",\"banana\",\"orange\"]\n",
    "tuple =(1,2,3,4,5)\n",
    "dictionary = {\"name\":\"Prerana\",\"age\":21}\n",
    "\n",
    "print(list)\n",
    "print(tuple)\n",
    "print(dictionary)"
   ]
  },
  {
   "cell_type": "code",
   "execution_count": 176,
   "id": "dbd0913b-f300-4595-a152-3cc7568b5c07",
   "metadata": {},
   "outputs": [
    {
     "data": {
      "text/plain": [
       "[2, 33, 45, 75, 99]"
      ]
     },
     "execution_count": 176,
     "metadata": {},
     "output_type": "execute_result"
    }
   ],
   "source": [
    "#27)Write a code to create a list of 5 random numbers between 1 and 100, sort it in ascending order, and print theresult.(replaced)\n",
    "list = [2,45,33,99,75]\n",
    "list.sort()\n",
    "list"
   ]
  },
  {
   "cell_type": "code",
   "execution_count": 178,
   "id": "bf110034-7e07-465d-92ea-7bd3d261841d",
   "metadata": {},
   "outputs": [
    {
     "data": {
      "text/plain": [
       "'Ansh'"
      ]
     },
     "execution_count": 178,
     "metadata": {},
     "output_type": "execute_result"
    }
   ],
   "source": [
    "#28) Write a code to create a list with strings and print the element at the third index.\n",
    "list = [\"Prem\",\"Anuj\",\"Priti\",\"Ansh\",\"Priya\"]\n",
    "list[3]"
   ]
  },
  {
   "cell_type": "code",
   "execution_count": 180,
   "id": "d06573e8-32a7-4a0d-ae9c-7d02cc5e9344",
   "metadata": {},
   "outputs": [
    {
     "data": {
      "text/plain": [
       "{'empid': 123,\n",
       " 'email': 'a@gmail.com',\n",
       " 'contact1': 3455667,\n",
       " 'id': 876,\n",
       " 'mail': 'ghsd@gmail.com',\n",
       " 'contact2': 675390}"
      ]
     },
     "execution_count": 180,
     "metadata": {},
     "output_type": "execute_result"
    }
   ],
   "source": [
    "#29)Write a code to combine two dictionaries into one and print the result.\n",
    "d1 = {\"empid\":123,\"email\":\"a@gmail.com\",\"contact1\":3455667}\n",
    "d2 = {\"id\":876,\"mail\":\"ghsd@gmail.com\",\"contact2\":675390}\n",
    "d1.update(d2)\n",
    "d1"
   ]
  },
  {
   "cell_type": "code",
   "execution_count": 1,
   "id": "57c64967-e715-4184-9db0-90d782cb107b",
   "metadata": {},
   "outputs": [
    {
     "name": "stdout",
     "output_type": "stream",
     "text": [
      "{'apple', 'Potato', 'Mango', 'orange', 'watermelon'}\n"
     ]
    }
   ],
   "source": [
    "#30)Write a code to convert a list of strings into a set.\n",
    "list1 = [\"apple\",\"Mango\",\"Potato\",\"orange\",\"watermelon\"]\n",
    "set_1 = set(list1)\n",
    "print(set_1)\n"
   ]
  },
  {
   "cell_type": "code",
   "execution_count": null,
   "id": "05ba20d3-495a-4dbc-bf3e-d11712005907",
   "metadata": {},
   "outputs": [],
   "source": []
  },
  {
   "cell_type": "code",
   "execution_count": null,
   "id": "4031d086-71c0-4876-bf78-7114cd352052",
   "metadata": {},
   "outputs": [],
   "source": []
  },
  {
   "cell_type": "code",
   "execution_count": null,
   "id": "f511f224-47e5-4756-80e4-1302221b08d0",
   "metadata": {},
   "outputs": [],
   "source": []
  }
 ],
 "metadata": {
  "kernelspec": {
   "display_name": "Python 3 (ipykernel)",
   "language": "python",
   "name": "python3"
  },
  "language_info": {
   "codemirror_mode": {
    "name": "ipython",
    "version": 3
   },
   "file_extension": ".py",
   "mimetype": "text/x-python",
   "name": "python",
   "nbconvert_exporter": "python",
   "pygments_lexer": "ipython3",
   "version": "3.11.7"
  }
 },
 "nbformat": 4,
 "nbformat_minor": 5
}
