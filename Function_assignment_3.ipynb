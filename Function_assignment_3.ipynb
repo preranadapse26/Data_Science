{
 "cells": [
  {
   "cell_type": "markdown",
   "id": "d6b0a612-f927-43cb-90cb-549685792ef0",
   "metadata": {},
   "source": [
    "Practical Question"
   ]
  },
  {
   "cell_type": "code",
   "execution_count": 7,
   "id": "151e2302-2cad-4180-819d-b308d11add75",
   "metadata": {},
   "outputs": [
    {
     "data": {
      "text/plain": [
       "25"
      ]
     },
     "execution_count": 7,
     "metadata": {},
     "output_type": "execute_result"
    }
   ],
   "source": [
    "#1. Write a Python function that takes a list of numbers as input and returns the sum of all even numbers in the list.\n",
    "\n",
    "def sum_list(l):\n",
    "    s = 0\n",
    "    for i in l:\n",
    "        s = i+s\n",
    "    return s\n",
    "\n",
    "sum_list([1,2,3,5,6,8])"
   ]
  },
  {
   "cell_type": "code",
   "execution_count": 9,
   "id": "c304b0fb-c8c7-4f20-b1ac-dea89e94cd5c",
   "metadata": {},
   "outputs": [
    {
     "data": {
      "text/plain": [
       "'anarerP'"
      ]
     },
     "execution_count": 9,
     "metadata": {},
     "output_type": "execute_result"
    }
   ],
   "source": [
    "#2. Create a Python function that accepts a string and returns the reverse of that string.\n",
    "\n",
    "def Str_reverse(str):\n",
    "    str = str[::-1]\n",
    "    return str\n",
    "\n",
    "Str_reverse(\"Prerana\")"
   ]
  },
  {
   "cell_type": "code",
   "execution_count": 13,
   "id": "62173e14-acb3-4102-86e5-9753bd096270",
   "metadata": {},
   "outputs": [
    {
     "data": {
      "text/plain": [
       "[1, 4, 9, 16, 25, 36, 49]"
      ]
     },
     "execution_count": 13,
     "metadata": {},
     "output_type": "execute_result"
    }
   ],
   "source": [
    "#3. Implement a Python function that takes a list of integers and returns a new list containing the squares of\n",
    "#each number.\n",
    "\n",
    "def Square_list(l):\n",
    "    s_list =[]\n",
    "    for i in  l:\n",
    "        s_list.append(i**2)\n",
    "    return s_list\n",
    "\n",
    "Square_list([1,2,3,4,5,6,7])"
   ]
  },
  {
   "cell_type": "code",
   "execution_count": 25,
   "id": "f7e9ba78-e5b5-4cc7-95f2-a60d45f0bfa6",
   "metadata": {},
   "outputs": [
    {
     "name": "stdin",
     "output_type": "stream",
     "text": [
      "enter a number between 1 to 200 6\n"
     ]
    },
    {
     "data": {
      "text/plain": [
       "False"
      ]
     },
     "execution_count": 25,
     "metadata": {},
     "output_type": "execute_result"
    }
   ],
   "source": [
    "#4. Write a Python function that checks if a given number is prime or not from 1 to 200.\n",
    "\n",
    "def is_prime(n):\n",
    "    if n < 2:\n",
    "        return False\n",
    "    if n >200:\n",
    "        return \"invalid number\"\n",
    "    for i in range(2, int(n**0.5) + 1):\n",
    "        if n % i == 0:  # Check if n is divisible by i\n",
    "            return False\n",
    "    return True\n",
    "\n",
    "is_prime(int(input(\"enter a number between 1 to 200\")))"
   ]
  },
  {
   "cell_type": "code",
   "execution_count": 29,
   "id": "ad4c7f76-dc47-4ebc-8ed7-1ab3fb1ae96d",
   "metadata": {},
   "outputs": [],
   "source": [
    "#.5 Create an iterator class in Python that generates the Fibonacci sequence up to a specified number of\n",
    "#terms.\n",
    "def fib(n):\n",
    "    a=0\n",
    "    b=1\n",
    "    for i in range(n):\n",
    "        yield a\n",
    "        a,b=b,a+b\n",
    "\n",
    "f= fib(10000)\n",
    "    \n"
   ]
  },
  {
   "cell_type": "code",
   "execution_count": 31,
   "id": "f7514f1c-f4ab-44d5-8b6e-3c0074b16aa7",
   "metadata": {},
   "outputs": [
    {
     "data": {
      "text/plain": [
       "0"
      ]
     },
     "execution_count": 31,
     "metadata": {},
     "output_type": "execute_result"
    }
   ],
   "source": [
    "next(f)"
   ]
  },
  {
   "cell_type": "code",
   "execution_count": 33,
   "id": "98388768-f4a3-47b8-b56d-74748d5bacde",
   "metadata": {},
   "outputs": [
    {
     "data": {
      "text/plain": [
       "1"
      ]
     },
     "execution_count": 33,
     "metadata": {},
     "output_type": "execute_result"
    }
   ],
   "source": [
    "next(f)"
   ]
  },
  {
   "cell_type": "code",
   "execution_count": 35,
   "id": "d34a0d7c-af4a-42aa-9a15-3d6809c757b5",
   "metadata": {},
   "outputs": [
    {
     "data": {
      "text/plain": [
       "1"
      ]
     },
     "execution_count": 35,
     "metadata": {},
     "output_type": "execute_result"
    }
   ],
   "source": [
    "next(f)"
   ]
  },
  {
   "cell_type": "code",
   "execution_count": 39,
   "id": "b22ed6d8-b23f-419b-b079-983a3d542bd1",
   "metadata": {},
   "outputs": [
    {
     "data": {
      "text/plain": [
       "3"
      ]
     },
     "execution_count": 39,
     "metadata": {},
     "output_type": "execute_result"
    }
   ],
   "source": [
    "next(f)"
   ]
  },
  {
   "cell_type": "code",
   "execution_count": 71,
   "id": "a06bae4d-b898-4dc2-9ed7-0fcad1a3d865",
   "metadata": {},
   "outputs": [],
   "source": [
    "#6.Write a generator function in Python that yields the powers of 2 up to a given exponent.\n",
    "\n",
    "def power(n):\n",
    "    for i in range(n):\n",
    "        yield i**2\n",
    "        \n",
    "a= power(10000)"
   ]
  },
  {
   "cell_type": "code",
   "execution_count": 75,
   "id": "b31f6c67-a789-436a-80c9-351281390c44",
   "metadata": {},
   "outputs": [
    {
     "data": {
      "text/plain": [
       "0"
      ]
     },
     "execution_count": 75,
     "metadata": {},
     "output_type": "execute_result"
    }
   ],
   "source": [
    "next(a)"
   ]
  },
  {
   "cell_type": "code",
   "execution_count": 77,
   "id": "c6b0d98b-17d2-48e6-9b5f-8158cc40e1da",
   "metadata": {},
   "outputs": [
    {
     "data": {
      "text/plain": [
       "1"
      ]
     },
     "execution_count": 77,
     "metadata": {},
     "output_type": "execute_result"
    }
   ],
   "source": [
    "next(a)"
   ]
  },
  {
   "cell_type": "code",
   "execution_count": 79,
   "id": "9438e988-ba05-40c5-a209-3d1d90fd973f",
   "metadata": {},
   "outputs": [
    {
     "data": {
      "text/plain": [
       "4"
      ]
     },
     "execution_count": 79,
     "metadata": {},
     "output_type": "execute_result"
    }
   ],
   "source": [
    "next(a)"
   ]
  },
  {
   "cell_type": "code",
   "execution_count": null,
   "id": "ad1c4bd5-aa27-4868-ae02-12a76245e37e",
   "metadata": {},
   "outputs": [],
   "source": [
    "#7. Implement a generator function that reads a file line by line and yields each line as a string.\n",
    "\n",
    "def read_file_line_by_line(file_path):\n",
    "    with open(file_path, 'r') as file:\n",
    "        for line in file:\n",
    "            yield line.rstrip('\\n')  \n",
    "\n",
    "for line in read_file_line_by_line('example.txt'):\n",
    "    print(line)\n"
   ]
  },
  {
   "cell_type": "code",
   "execution_count": 92,
   "id": "2ce4e67e-e74e-498b-a10e-8cd7b8922bc6",
   "metadata": {},
   "outputs": [
    {
     "data": {
      "text/plain": [
       "[(3, 1), (1, 2), (7, 3), (5, 4), (6, 4)]"
      ]
     },
     "execution_count": 92,
     "metadata": {},
     "output_type": "execute_result"
    }
   ],
   "source": [
    "# 8. Use a lambda function in Python to sort a list of tuples based on the second element of each tuple.\n",
    "\n",
    "data = [(1,2),(3,1),(5,4),(6,4),(7,3)]\n",
    "sorted(data ,key = lambda x:x[1])"
   ]
  },
  {
   "cell_type": "code",
   "execution_count": 100,
   "id": "6ceeffee-5260-40bb-a074-f26c26c3a05a",
   "metadata": {},
   "outputs": [
    {
     "data": {
      "text/plain": [
       "[86.0, 113.0, 132.8, 73.4, 51.8]"
      ]
     },
     "execution_count": 100,
     "metadata": {},
     "output_type": "execute_result"
    }
   ],
   "source": [
    "#9. Write a Python program that uses `map()` to convert a list of temperatures from Celsius to Fahrenheit\n",
    "\n",
    "celcius = [30,45,56,23,11]\n",
    "list(map(lambda c:c*(9/5)+32, celcius))"
   ]
  },
  {
   "cell_type": "code",
   "execution_count": 120,
   "id": "3e419f52-42e2-4b2c-8f26-c2f7ce8ea728",
   "metadata": {},
   "outputs": [
    {
     "name": "stdin",
     "output_type": "stream",
     "text": [
      "enter a string prer\n"
     ]
    },
    {
     "name": "stdout",
     "output_type": "stream",
     "text": [
      "prr\n"
     ]
    }
   ],
   "source": [
    "# 10.Create a Python program that uses `filter()` to remove all the vowels from a given string.\n",
    "\n",
    "input_str =input(\"enter a string\" )\n",
    "result = ''.join(filter(lambda x:x.lower() not in 'aeiou',input_str))\n",
    "print(result)                 "
   ]
  },
  {
   "cell_type": "code",
   "execution_count": 136,
   "id": "bad40da2-9e21-4bfb-a7f3-81d4e0b02ef7",
   "metadata": {},
   "outputs": [
    {
     "name": "stdout",
     "output_type": "stream",
     "text": [
      "[(34587, 163.8), (98762, 284.0), (77226, 108.85), (88112, 84.97)]\n"
     ]
    }
   ],
   "source": [
    "#11. Imagine an accounting routine used in a book shop. It works on a list with sublists, which look like this:\n",
    "# Write a Python program, which returns a list with 2-tuples. Each tuple consists of the order number and the\n",
    "# product of the price per item and the quantity. The product should be increased by 10,- € if the value of the\n",
    "# order is smaller than 100,00 €.\n",
    "\n",
    "# Write a Python program using lambda and map\n",
    "\n",
    "orders = [\n",
    "    [34587, \"Learning Python, Mark Lutz\", 4, 40.95],\n",
    "    [98762, \"Programming Python, Mark Lutz\", 5, 56.80],\n",
    "    [77226, \"Head First Python, Paul Barry\", 3, 32.95],\n",
    "    [88112, \"Einführung in Python3, Bernd Klein\", 3, 24.99]\n",
    "]\n",
    "final_bills =list(map(lambda order:(order[0],round(order[2]*order[3]+(10 if order[2]*order[3] <100 else 0),2)),orders))\n",
    "print(final_bills)"
   ]
  },
  {
   "cell_type": "markdown",
   "id": "40d818ca-7ab4-4cb5-a298-07ca7cef9d44",
   "metadata": {},
   "source": [
    "Theory Question"
   ]
  },
  {
   "cell_type": "code",
   "execution_count": 139,
   "id": "3d47405f-58a0-4f0a-8ab2-6c486981bb14",
   "metadata": {},
   "outputs": [
    {
     "name": "stdout",
     "output_type": "stream",
     "text": [
      "hello\n",
      "PRERANA\n"
     ]
    }
   ],
   "source": [
    "# 1. What is the difference between a function and a method in Python?\n",
    "# ==function -- function is a block of code that is reusable and independent of class\n",
    "# method --method is block of code that is associated with the class and object and can be \n",
    "# called using object and class name only.\n",
    "\n",
    "#function example\n",
    "def greet():\n",
    "    print(\"hello\")\n",
    "\n",
    "greet()\n",
    "\n",
    "#method example\n",
    "name =\"Prerana\"\n",
    "print(name.upper());"
   ]
  },
  {
   "cell_type": "code",
   "execution_count": 141,
   "id": "cc5ce996-2c9d-41a9-a3f8-46f52cde5ea5",
   "metadata": {},
   "outputs": [
    {
     "data": {
      "text/plain": [
       "'hello Prerana'"
      ]
     },
     "execution_count": 141,
     "metadata": {},
     "output_type": "execute_result"
    }
   ],
   "source": [
    "# 2. Explain the concept of function arguments and parameters in Python.\n",
    "# ==parameter --whenever you define a function and pass a variable\n",
    "# argument --whenever you pass a value  while calling a function, it is called as argument\n",
    "\n",
    "def greet(name): #parameter\n",
    "    return f\"hello {name}\"\n",
    "\n",
    "greet(\"Prerana\")#argument"
   ]
  },
  {
   "cell_type": "code",
   "execution_count": 151,
   "id": "6b45c821-d5f0-4854-b57f-25b999b05e0f",
   "metadata": {},
   "outputs": [
    {
     "name": "stdout",
     "output_type": "stream",
     "text": [
      "non-parameterize\n",
      "function parameterize\n",
      "1\n",
      "2\n",
      "3\n",
      "4\n"
     ]
    }
   ],
   "source": [
    "# 3. What are the different ways to define and call a function in Python?\n",
    "# == Ways to define function\n",
    "#  -Parameterize\n",
    "#  -non-parameterizs\n",
    "#  -variable length argument\n",
    "#  -variable length keyword argument\n",
    "# == ways to call  function\n",
    "#  -default \n",
    "#  -argumented\n",
    "#  -multiple argument\n",
    "\n",
    "def fun():\n",
    "    print(\"non-parameterize\")\n",
    "fun()\n",
    "\n",
    "def fun1(a):\n",
    "    print(\"function\",a)\n",
    "\n",
    "fun1(\"parameterize\")\n",
    "\n",
    "def func2(*args):\n",
    "   for arg in args:\n",
    "       print(arg)\n",
    "func2(1,2,3,4)\n",
    "    "
   ]
  },
  {
   "cell_type": "code",
   "execution_count": 153,
   "id": "74cb7d1e-32a7-4594-9784-fa287e1be44e",
   "metadata": {},
   "outputs": [
    {
     "data": {
      "text/plain": [
       "'return value'"
      ]
     },
     "execution_count": 153,
     "metadata": {},
     "output_type": "execute_result"
    }
   ],
   "source": [
    "# 4. What is the purpose of the `return` statement in a Python function?\n",
    "# == return statement is used to return the value of function, it returns the values of a \n",
    "# function int, string ,boolean etc.\n",
    "\n",
    "def funct():\n",
    "    return \"return value\"\n",
    "funct()"
   ]
  },
  {
   "cell_type": "code",
   "execution_count": 157,
   "id": "59a195bc-78b6-4db9-8e05-5bf323536746",
   "metadata": {},
   "outputs": [
    {
     "name": "stdout",
     "output_type": "stream",
     "text": [
      "1\n",
      "2\n",
      "prerana\n"
     ]
    }
   ],
   "source": [
    "# 5. What are iterators in Python and how do they differ from iterables?\n",
    "# ==iterator - an iterator is  an object representing  a stream of data and return the data one by one.\n",
    "\n",
    "# -iterable - an iterable is any python object /sequential structure /data structure that is capable of \n",
    "# returning its members one at a time.\n",
    "\n",
    "list = [1,2,\"prerana\"] #list is iterable object\n",
    "for i in list:\n",
    "    print(i)"
   ]
  },
  {
   "cell_type": "code",
   "execution_count": 163,
   "id": "ec8d07a4-eba7-47be-8627-5d34e8fbbce8",
   "metadata": {},
   "outputs": [],
   "source": [
    "# 6. Explain the concept of generators in Python and how they are defined.\n",
    "# == generator function are the function which return the result one by one instead of one go.\n",
    "# yield statement is used instead of return statement in generator\n",
    "\n",
    "def square_no(n):\n",
    "    for i in range(n):\n",
    "        yield i**2\n",
    "\n",
    "s = square_no(100)"
   ]
  },
  {
   "cell_type": "code",
   "execution_count": 165,
   "id": "ec55712f-6af9-441b-9c0d-6e3c4c146986",
   "metadata": {},
   "outputs": [
    {
     "data": {
      "text/plain": [
       "0"
      ]
     },
     "execution_count": 165,
     "metadata": {},
     "output_type": "execute_result"
    }
   ],
   "source": [
    "next(s)"
   ]
  },
  {
   "cell_type": "code",
   "execution_count": 167,
   "id": "f37d7750-b731-4601-a723-012836a8e6ee",
   "metadata": {},
   "outputs": [
    {
     "data": {
      "text/plain": [
       "1"
      ]
     },
     "execution_count": 167,
     "metadata": {},
     "output_type": "execute_result"
    }
   ],
   "source": [
    "next(s)"
   ]
  },
  {
   "cell_type": "code",
   "execution_count": 174,
   "id": "a102bf37-329f-49d3-9ebe-9836a841ce6c",
   "metadata": {},
   "outputs": [],
   "source": [
    "# 7. What are the advantages of using generators over regular functions?\n",
    "# == - saves execution time.\n",
    "# - saves memeory space\n",
    "# - saves the computation effort as values return one by one\n",
    "def square_no(n):\n",
    "    for i in range(n):\n",
    "        yield i**2\n",
    "\n",
    "s = square_no(100)"
   ]
  },
  {
   "cell_type": "code",
   "execution_count": 180,
   "id": "39433ccd-c534-40b8-a6ce-7770465b82ca",
   "metadata": {},
   "outputs": [
    {
     "data": {
      "text/plain": [
       "49"
      ]
     },
     "execution_count": 180,
     "metadata": {},
     "output_type": "execute_result"
    }
   ],
   "source": [
    "# 8. What is a lambda function in Python and when is it typically used?\n",
    "# == lambda -- anonymous function-- unknown function that helps us to write a short hand function\n",
    "# syntax :lambda argument: expression\n",
    "# lambda function used when we want to reduce the code size  and save the time\n",
    "\n",
    "sq = lambda x:x**2\n",
    "sq(7)   "
   ]
  },
  {
   "cell_type": "code",
   "execution_count": 190,
   "id": "901ebab2-7f4f-41bb-9d5e-6aeffbc00871",
   "metadata": {},
   "outputs": [],
   "source": [
    "#9. Explain the purpose and usage of the `map()` function in Python.\n",
    "# == map function is used to map the function and iterable with each other ,it takes the two argument \n",
    "# function and iterable."
   ]
  },
  {
   "cell_type": "code",
   "execution_count": 192,
   "id": "98eed741-152f-49ee-82ea-e68d779a5932",
   "metadata": {},
   "outputs": [],
   "source": [
    "#10. What is the difference between `map()`, `reduce()`, and `filter()` functions in Python?\n",
    "# --map() fuction used to map the value and function .\n",
    "# --reduce() applies a rolling computation to sequential element\n",
    "# --filter() is used to filter elements from an iterable based on some certain condition"
   ]
  },
  {
   "cell_type": "code",
   "execution_count": null,
   "id": "c37705a3-ce59-4992-bd0c-eb14fc1c949c",
   "metadata": {},
   "outputs": [],
   "source": []
  }
 ],
 "metadata": {
  "kernelspec": {
   "display_name": "Python 3 (ipykernel)",
   "language": "python",
   "name": "python3"
  },
  "language_info": {
   "codemirror_mode": {
    "name": "ipython",
    "version": 3
   },
   "file_extension": ".py",
   "mimetype": "text/x-python",
   "name": "python",
   "nbconvert_exporter": "python",
   "pygments_lexer": "ipython3",
   "version": "3.11.7"
  }
 },
 "nbformat": 4,
 "nbformat_minor": 5
}
