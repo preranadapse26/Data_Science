{
 "cells": [
  {
   "cell_type": "code",
   "execution_count": 1,
   "id": "ac0939b0-dcb4-43a9-88f9-952f9a6c502c",
   "metadata": {},
   "outputs": [],
   "source": [
    "# What is a parameter?\n",
    "# Parameters the internal ,learned components of a model that are adjusted during training to optimize its performance."
   ]
  },
  {
   "cell_type": "code",
   "execution_count": 3,
   "id": "2073a877-8689-4436-8e8f-d6e74f53db52",
   "metadata": {},
   "outputs": [],
   "source": [
    "# What is correlation?\n",
    "# What does negative correlation mean?\n",
    "# Correlation is term used to define the relation between to variable with respect to each other .\n",
    "# negative correlation means if one variable increase other will decrease with respect to each other, means they are negatively related to each other."
   ]
  },
  {
   "cell_type": "code",
   "execution_count": 9,
   "id": "8690d5bd-f49e-47e4-a950-34566bccbfe4",
   "metadata": {},
   "outputs": [],
   "source": [
    "# Define Machine Learning. What are the main components in Machine Learning?\n",
    "# The subfield of computer science that gives computer the ability to learn  without explicitly programmed.\n",
    "# components - Data, Model, Training , Evaluation"
   ]
  },
  {
   "cell_type": "code",
   "execution_count": 11,
   "id": "fd88efa0-112c-481e-8f13-c4c53b104195",
   "metadata": {},
   "outputs": [],
   "source": [
    "# How does loss value help in determining whether the model is good or not?\n",
    "# Loss value tells the model accuracy. Lesses the loss value means high model performance and high model loss value means low model  performance."
   ]
  },
  {
   "cell_type": "code",
   "execution_count": 13,
   "id": "b7375dee-1d0f-4590-b261-8ce02f772405",
   "metadata": {},
   "outputs": [],
   "source": [
    "# What are continuous and categorical variables?\n",
    "# continous - Continous variable are continous numerical value . eg Height of people\n",
    "# categorical data - categorical variiable represents qualities that can be categories in different groups rather than numerical measure"
   ]
  },
  {
   "cell_type": "code",
   "execution_count": 15,
   "id": "0bcbe3b0-26a7-4729-b968-473ff35a2c57",
   "metadata": {},
   "outputs": [],
   "source": [
    "# How do we handle categorical variables in Machine Learning? What are the common techniques?\n",
    "# Categorical values converted to numerical values with the help of one hot incoding, label and ordinal encoding, target guided ordinal encoding\n"
   ]
  },
  {
   "cell_type": "code",
   "execution_count": 17,
   "id": "a3f560d4-0ebe-4c5d-a4c8-c37ed0eb68a9",
   "metadata": {},
   "outputs": [],
   "source": [
    "# What do you mean by training and testing a dataset?\n",
    "# Training a dataset means used to train the model from which model learns different patterns\n",
    "# Testing dataset means which is used to test the model train using training dataset"
   ]
  },
  {
   "cell_type": "code",
   "execution_count": 21,
   "id": "81efa548-1841-4d14-95e4-cf7c963aabb4",
   "metadata": {},
   "outputs": [],
   "source": [
    "# What is sklearn.preprocessing?\n",
    "# sklearn.prerocessing is model used for data  preprocessing such as feature enggineering, feature extraction and feature scaling , data encoding."
   ]
  },
  {
   "cell_type": "code",
   "execution_count": 23,
   "id": "2702e8da-8fb8-405b-89b2-5de8db77ffac",
   "metadata": {},
   "outputs": [],
   "source": [
    "# What is a Test set?\n",
    "# Test set means set od data used to test the model."
   ]
  },
  {
   "cell_type": "code",
   "execution_count": 25,
   "id": "d6c1a0c3-2af5-4fb9-91c1-09147dbac01f",
   "metadata": {},
   "outputs": [],
   "source": [
    "# How do we split data for model fitting (training and testing) in Python?\n",
    "# How do you approach a Machine Learning problem?\n",
    "# --To split data for model fitting in Python, the train_test_split function from the sklearn.model_selection module is\n",
    "# commonly used. This function divides the data into training and testing sets, typically with a ratio of 75% for training\n",
    "# and 25% for testing, but this ratio can be adjusted. The training set is \n",
    "# used to train the model, and the testing set is used to evaluate its performance on unseen data ."
   ]
  },
  {
   "cell_type": "code",
   "execution_count": 27,
   "id": "c262cf70-e286-44a7-9938-edfe6396a989",
   "metadata": {},
   "outputs": [],
   "source": [
    "# Why do we have to perform EDA before fitting a model to the data?\n",
    "# Exploratory Data Analysis (EDA) should be performed before model fitting to gain a deep understanding of the data,\n",
    "# identify potential issues, and make informed decisions about data preprocessing and model selection"
   ]
  },
  {
   "cell_type": "code",
   "execution_count": 29,
   "id": "de1756a3-2bf2-4317-b649-fdb6127c3a2a",
   "metadata": {},
   "outputs": [],
   "source": [
    "# What is correlation?\n",
    "# Correlation is term used to define the relation between to variable with respect to each other ."
   ]
  },
  {
   "cell_type": "code",
   "execution_count": 31,
   "id": "527b6173-5e9e-45d1-a18a-a901769dc591",
   "metadata": {},
   "outputs": [],
   "source": [
    "# What does negative correlation mean?\n",
    "# negative correlation means if one variable increase other will decrease with respect to each other, means they are negatively related to each other."
   ]
  },
  {
   "cell_type": "code",
   "execution_count": 33,
   "id": "3df41519-dcf3-4f5e-b2f2-7aeca419dd87",
   "metadata": {},
   "outputs": [],
   "source": [
    "# How can you find correlation between variables in Python?\n",
    "# we find correlation between to variable using correlation heatmap which calculates the correlation coefficiant for each feature."
   ]
  },
  {
   "cell_type": "code",
   "execution_count": 35,
   "id": "a127d428-1bb0-4c87-9521-209484e56a25",
   "metadata": {},
   "outputs": [],
   "source": [
    "# What is causation? Explain difference between correlation and causation with an example?\n",
    "# Causation means one event directly leads to another, while correlation simply indicates a relationship or pattern between two events."
   ]
  },
  {
   "cell_type": "code",
   "execution_count": 37,
   "id": "eee1ced9-bc13-4a92-ad94-fe9c2a160149",
   "metadata": {},
   "outputs": [],
   "source": [
    "# What is an Optimizer? What are different types of optimizers? Explain each with an example\n",
    "# an algorithm that adjusts the parameters (like weights and biases) of a neural network to minimize the loss function, \n",
    "# which measures the difference between predicted and actual "
   ]
  },
  {
   "cell_type": "code",
   "execution_count": 41,
   "id": "9cde7494-8fd1-43d8-bfa4-a0bab13d212b",
   "metadata": {},
   "outputs": [],
   "source": [
    "# What is sklearn.linear_model ?\n",
    "# linear_model is class from sklearn module which is used to build a linear relationship model between to variable."
   ]
  },
  {
   "cell_type": "code",
   "execution_count": 45,
   "id": "cc94b981-cff4-4708-9e89-8838e2f49cda",
   "metadata": {},
   "outputs": [],
   "source": [
    "# What does model.fit() do? What arguments must be given?\n",
    "# model.fit() fit the train data with respect to mean and standard deviation.\n",
    "# data which to be fit must be given as argument"
   ]
  },
  {
   "cell_type": "code",
   "execution_count": 47,
   "id": "d699c969-fb93-43b1-8766-f2632d39fefa",
   "metadata": {},
   "outputs": [],
   "source": [
    "# What does model.predict() do? What arguments must be given?\n",
    "# model.predict() is a method in many machine learning and deep learning frameworks used to make predictions using a trained model.\n",
    "# predictions = model.predict(x, batch_size=None, verbose=0, steps=None, callbacks=None)\n"
   ]
  },
  {
   "cell_type": "code",
   "execution_count": 49,
   "id": "30cc97ad-4cc8-4646-9fce-5f5ae04ea0fa",
   "metadata": {},
   "outputs": [],
   "source": [
    "# What are continuous and categorical variables?\n",
    "# continous - Continous variable are continous numerical value . eg Height of people\n",
    "# categorical data - categorical variiable represents qualities that can be categories in different groups rather than numerical measure"
   ]
  },
  {
   "cell_type": "code",
   "execution_count": 51,
   "id": "7012cf09-913b-4c03-877b-417913470d03",
   "metadata": {},
   "outputs": [],
   "source": [
    "# What is feature scaling? How does it help in Machine Learning?\n",
    "# feature scaling means bringing all features on same scale .\n",
    "# It help in machine learning by bringing all features on same scale removing the feature dominance"
   ]
  },
  {
   "cell_type": "code",
   "execution_count": 53,
   "id": "ff6901b4-8c78-4ab7-91f4-ba24fe6161fb",
   "metadata": {},
   "outputs": [],
   "source": [
    "# How do we perform scaling in Python?\n",
    "# there are different menthods of feature scaling such as normalization, sandardization and unit vector.."
   ]
  },
  {
   "cell_type": "code",
   "execution_count": 55,
   "id": "13aefe18-189d-499d-abe0-a4b23946385a",
   "metadata": {},
   "outputs": [],
   "source": [
    "# What is sklearn.preprocessing?\n",
    "# sklearn.prerocessing is model used for data  preprocessing such as feature enggineering, feature extraction and feature scaling , data encoding."
   ]
  },
  {
   "cell_type": "code",
   "execution_count": 57,
   "id": "459a8962-6c5a-4ab2-ae6c-4b79cac97411",
   "metadata": {},
   "outputs": [],
   "source": [
    "# How do we split data for model fitting (training and testing) in Python?\n",
    "# In Python, the most common way to split your dataset into training and testing sets is by using train_test_split\n",
    "# from the sklearn.model_selection module."
   ]
  },
  {
   "cell_type": "code",
   "execution_count": null,
   "id": "b4c33901-2dff-482f-bb6d-b354ee0187ab",
   "metadata": {},
   "outputs": [],
   "source": [
    "# Explain data encoding?\n",
    "# Transforming categorical values into dummy numerical values is known as data encoding."
   ]
  }
 ],
 "metadata": {
  "kernelspec": {
   "display_name": "Python 3 (ipykernel)",
   "language": "python",
   "name": "python3"
  },
  "language_info": {
   "codemirror_mode": {
    "name": "ipython",
    "version": 3
   },
   "file_extension": ".py",
   "mimetype": "text/x-python",
   "name": "python",
   "nbconvert_exporter": "python",
   "pygments_lexer": "ipython3",
   "version": "3.11.7"
  }
 },
 "nbformat": 4,
 "nbformat_minor": 5
}
