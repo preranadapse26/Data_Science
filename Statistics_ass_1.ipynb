{
 "cells": [
  {
   "cell_type": "code",
   "execution_count": null,
   "id": "6c4f969d-3e23-459f-840f-a7df4570d8b7",
   "metadata": {},
   "outputs": [],
   "source": [
    "# 1)What is statistics, and why is it important\u001d",
    "??\n",
    "# ---Statistics ia a mathematical science including methods of collecting ,organising and analysing data in a such\n",
    "# a way that meaningful conclusion can be drawn from them.\n",
    "\n",
    "# Statistics is important in data science to learn and draw patterns from data."
   ]
  },
  {
   "cell_type": "code",
   "execution_count": null,
   "id": "06de594d-ad1c-4f4a-b422-204b05abaacc",
   "metadata": {},
   "outputs": [],
   "source": [
    "#2) What are the two main types of statistics\u001d",
    "\n",
    "# ---1. Discriptive Statistics -- It consist of organising and summerizing the complete data/population\n",
    "# 2. Inferential statistics -- It consist of using sample data that has been measured to form conclusion about a population"
   ]
  },
  {
   "cell_type": "code",
   "execution_count": null,
   "id": "ef244d99-10e1-4d6c-bd60-ca8d3b1ddb25",
   "metadata": {},
   "outputs": [],
   "source": [
    "# 3) What are descriptive statistics\u001d",
    "?\n",
    "#--- Discriptive Statistics -- It consist of organising and summerizing the complete data/population"
   ]
  },
  {
   "cell_type": "code",
   "execution_count": null,
   "id": "aca4a300-ce1f-4012-a22f-8d355c91f80d",
   "metadata": {},
   "outputs": [],
   "source": [
    "# 4)What is inferential statistics?\n",
    "# \u001d",
    "-- Inferential statistics -- It consist of using sample data that has been measured to form conclusion about a population"
   ]
  },
  {
   "cell_type": "code",
   "execution_count": null,
   "id": "e18eb666-bcf5-4ffb-8705-5bac482a0501",
   "metadata": {},
   "outputs": [],
   "source": [
    "# 5)What is sampling in statistics\u001d",
    "?\n",
    "# ---Sampling is process of taking some random data out of a population of data."
   ]
  },
  {
   "cell_type": "code",
   "execution_count": null,
   "id": "43257901-0b3a-40bc-bdcf-3d91adf1f0ea",
   "metadata": {},
   "outputs": [],
   "source": [
    "# 6) What are the different types of sampling methods\u001d",
    "?\n",
    "# ---1. Simple Random sampling\n",
    "#    2. stratified sampling\n",
    "#    3. Cluster Sampling\n",
    "#    4. Systematic Sampling"
   ]
  },
  {
   "cell_type": "code",
   "execution_count": 96,
   "id": "534c8cda-6019-4392-ae2e-586aa9acf63b",
   "metadata": {},
   "outputs": [],
   "source": [
    "# 7)What is the difference between random and non-random sampling?\n",
    "# ---Random sampling - Every element has a equal chance to get selected in sample\n",
    "#    Non - random sampling-- Every element may not get equal chance to get selected in sample"
   ]
  },
  {
   "cell_type": "code",
   "execution_count": 98,
   "id": "8cff2a06-5ee5-41fd-885f-66753acd3264",
   "metadata": {},
   "outputs": [],
   "source": [
    "# 8)Define and give examples of qualitative and quantitative data.\n",
    "# ---1.Qualitative data - Qualitative data is a categorical data which does not contain any numerical value.\n",
    "# example:  gender, blood Group ,colour\n",
    "# 2. Quantitative data - Quantitative data is a numerical data on which numerical operation can be perform.\n",
    "# example: number of student in a class, Age of persons.\n"
   ]
  },
  {
   "cell_type": "code",
   "execution_count": null,
   "id": "ae994e49-c87f-4e29-a084-0a5ea61435b4",
   "metadata": {},
   "outputs": [],
   "source": [
    "# 9)What are the different types of data in statistics\u001d",
    "?\n",
    "# --1.Discrete Data\n",
    "# 2.Continuous data\n",
    "# 3.Nominal Data\n",
    "# 4.Ordinal Data"
   ]
  },
  {
   "cell_type": "code",
   "execution_count": null,
   "id": "82ae0c77-212c-4f32-afdf-09ede2d2556f",
   "metadata": {},
   "outputs": [],
   "source": [
    "# 10) Explain nominal, ordinal, interval, and ratio levels of measurement?\n",
    "# -- Nominal Data- Categorical data having no order.\n",
    "# Ordinal Data - categorical data having order and rank . Order and rank has a meaning but difference cant be measured\n",
    "# Interval Scale data - Rank and order has a meaning  and difference can be measured.\n",
    "# Ratio scale Data--Difference and ratio are measurable."
   ]
  },
  {
   "cell_type": "code",
   "execution_count": null,
   "id": "633d7a99-6116-465a-bc37-64c667f31787",
   "metadata": {},
   "outputs": [],
   "source": [
    "# 11)What is the measure of central tendency\u001d",
    "?\n",
    "# --Central tendancy represents the centre point of a dataset\n",
    "# mean\n",
    "# median\n",
    "# mode"
   ]
  },
  {
   "cell_type": "code",
   "execution_count": null,
   "id": "c405c943-a280-4fd3-80a2-25be5828260e",
   "metadata": {},
   "outputs": [],
   "source": [
    "# 12) Define mean, median, and mode?\n",
    "# --mean: Average arithemetic mid value of data\n",
    "# median:Physical mid point of data\n",
    "# mode:repeated highest number of times value in data"
   ]
  },
  {
   "cell_type": "code",
   "execution_count": null,
   "id": "da395d70-3622-4165-8bb0-2de34e3473fb",
   "metadata": {},
   "outputs": [],
   "source": [
    "# 13)What is the significance of the measure of central tendency\u001d",
    "?\n",
    "# --Central tendancy represents the centre point of a dataset.\n",
    "# mean ,median, mode used for exploratory data analysis."
   ]
  },
  {
   "cell_type": "code",
   "execution_count": null,
   "id": "4b9d0c84-6adc-49f1-a709-3556328c7e90",
   "metadata": {},
   "outputs": [],
   "source": [
    "# 14) What is variance, and how is it calculated\u001d",
    "?\n",
    "# --Variance is calculation of spread of data is in a dataset.\n",
    "# variance is average of the squared difference from the mean."
   ]
  },
  {
   "cell_type": "code",
   "execution_count": null,
   "id": "2e5f9d22-fd1f-4629-a805-cb419fed2673",
   "metadata": {},
   "outputs": [],
   "source": [
    "# 15)What is standard deviation, and why is it important\u001d",
    "?\n",
    "# --standard deviation is ameasure of how spread out numbers are .It is square root of  variance.\n",
    "# Variance can be huge number because it talks about spread at an overall level -comparison of each number \n",
    "# with respect to variance becomes difficult, Standard deviation reduce numbeer and its dimension to\n",
    "# original hence its important"
   ]
  },
  {
   "cell_type": "code",
   "execution_count": null,
   "id": "c9ceb7c8-ef4d-4838-b38e-4e8dabf98a89",
   "metadata": {},
   "outputs": [],
   "source": [
    "# 16)What is standard deviation, and why is it important\u001d",
    "?\n",
    "# Range is difference between maximum and minimum value.\n",
    "# range gives the  range of value in data."
   ]
  },
  {
   "cell_type": "code",
   "execution_count": null,
   "id": "61d76a55-a2c1-4434-a79a-2fc332ae185c",
   "metadata": {},
   "outputs": [],
   "source": [
    "#17)What is the difference between variance and standard deviation\u001d",
    "?\n",
    "# variance is average of the squared difference from the mean.\n",
    "# standard deviation is square root of  variance."
   ]
  },
  {
   "cell_type": "code",
   "execution_count": null,
   "id": "79acc44a-9e36-4965-af01-7e9ead6fef8c",
   "metadata": {},
   "outputs": [],
   "source": [
    "# 18)What is skewness in a dataset.\n",
    "# --Skewness  is measure of symmetricity.\u001d"
   ]
  },
  {
   "cell_type": "code",
   "execution_count": null,
   "id": "d47a11d5-0910-4af2-9a13-15e97524c87b",
   "metadata": {},
   "outputs": [],
   "source": [
    "# 19)What does it mean if a dataset is positively or negatively skewed\u001d",
    "?\n",
    "# --Positively skewed mean most of the data lies in right side of the distribution.\n",
    "# negatively skewed mean most of the data lies in left side of the distribution."
   ]
  },
  {
   "cell_type": "code",
   "execution_count": null,
   "id": "d47da8fe-7955-402d-ac51-a495aa14346d",
   "metadata": {},
   "outputs": [],
   "source": [
    "# 20)Define and explain kurtosis\n",
    "# --Kurtosis is a statistical measure that describes the shape of a distribution's \n",
    "# tails in relation to its overall shape — particularly how heavy or light the tails\n",
    "# are compared to a normal distribution."
   ]
  },
  {
   "cell_type": "code",
   "execution_count": null,
   "id": "86665522-4528-4ea6-9a68-a3940996915e",
   "metadata": {},
   "outputs": [],
   "source": [
    "# 21)What is the purpose of covariance\u001d",
    "?\n",
    "# --Covariance means uderstanding the relationship of a feature with respect to other feature"
   ]
  },
  {
   "cell_type": "code",
   "execution_count": null,
   "id": "bc8ccd4d-7803-426c-beee-70638578f7f4",
   "metadata": {},
   "outputs": [],
   "source": [
    "# 22)What does correlation measure in statistics\u001d",
    "?\n",
    "# --In statistics, correlation measures the strength and direction of a linear relationship\n",
    "# between two variables."
   ]
  },
  {
   "cell_type": "code",
   "execution_count": null,
   "id": "5746d9b4-f3c9-4aeb-ba09-bfa85f3393d5",
   "metadata": {},
   "outputs": [],
   "source": [
    "# 23)What is the difference between covariance and correlation\u001d",
    "?\n",
    "# --covariance-Measures how two variables vary together.\n",
    "# corrlation-Measures the strength and direction of a linear relationship between two variables.\n"
   ]
  },
  {
   "cell_type": "code",
   "execution_count": null,
   "id": "b7e18f81-3ba4-4fa3-b402-18a3ecd587a9",
   "metadata": {},
   "outputs": [],
   "source": [
    "# 24)What are some real-world applications of statistics?\n",
    "# --Business & Marketing\n",
    "# --Healthcare & Medicine\n",
    "# --Education\n",
    "# --Government & Policy Making"
   ]
  },
  {
   "cell_type": "markdown",
   "id": "efc9930d-cdc6-4adf-b490-7e7c7a1053db",
   "metadata": {},
   "source": [
    "#Practical Question"
   ]
  },
  {
   "cell_type": "code",
   "execution_count": 123,
   "id": "36280a64-6e32-4364-9709-ec795dd738b1",
   "metadata": {},
   "outputs": [
    {
     "name": "stderr",
     "output_type": "stream",
     "text": [
      "C:\\Users\\dell\\anaconda3\\Lib\\site-packages\\IPython\\core\\inputtransformer2.py:627: UserWarning: `make_tokens_by_line` received a list of lines which do not have lineending markers ('\\n', '\\r', '\\r\\n', '\\x0b', '\\x0c'), behavior will be unspecified\n",
      "  tokens_by_line = make_tokens_by_line(lines)\n"
     ]
    },
    {
     "data": {
      "text/plain": [
       "4.0"
      ]
     },
     "execution_count": 123,
     "metadata": {},
     "output_type": "execute_result"
    }
   ],
   "source": [
    "#1)How do you calculate the mean, median, and mode of a dataset\u001d",
    "?\n",
    "data = [1,3,3,7,4,8,9]\n",
    "import numpy as np\n",
    "np.mean(data)\n",
    "np.median(data)\n"
   ]
  },
  {
   "cell_type": "code",
   "execution_count": 125,
   "id": "aad71a67-eea9-4165-bcb6-b0c2d072a999",
   "metadata": {},
   "outputs": [
    {
     "data": {
      "text/plain": [
       "ModeResult(mode=3, count=2)"
      ]
     },
     "execution_count": 125,
     "metadata": {},
     "output_type": "execute_result"
    }
   ],
   "source": [
    "from scipy import stats\n",
    "stats.mode(data)"
   ]
  },
  {
   "cell_type": "code",
   "execution_count": 127,
   "id": "3bef3528-e4fd-4b46-84c0-ca6a3756984c",
   "metadata": {},
   "outputs": [
    {
     "data": {
      "text/plain": [
       "985.0"
      ]
     },
     "execution_count": 127,
     "metadata": {},
     "output_type": "execute_result"
    }
   ],
   "source": [
    "# 2)Write a Python program to compute the variance and standard deviation of a dataset.\n",
    "data =[3,66,78,34,67,100]\n",
    "np.var(data)"
   ]
  },
  {
   "cell_type": "code",
   "execution_count": 129,
   "id": "32a4739c-c8ec-4d34-844a-82a5e514c9b9",
   "metadata": {},
   "outputs": [
    {
     "data": {
      "text/plain": [
       "31.38470965295043"
      ]
     },
     "execution_count": 129,
     "metadata": {},
     "output_type": "execute_result"
    }
   ],
   "source": [
    "np.std(data)"
   ]
  },
  {
   "cell_type": "code",
   "execution_count": 131,
   "id": "ac75f497-ea43-420b-b973-6c16ee8e4574",
   "metadata": {},
   "outputs": [
    {
     "data": {
      "text/plain": [
       "['anagrams',\n",
       " 'anscombe',\n",
       " 'attention',\n",
       " 'brain_networks',\n",
       " 'car_crashes',\n",
       " 'diamonds',\n",
       " 'dots',\n",
       " 'dowjones',\n",
       " 'exercise',\n",
       " 'flights',\n",
       " 'fmri',\n",
       " 'geyser',\n",
       " 'glue',\n",
       " 'healthexp',\n",
       " 'iris',\n",
       " 'mpg',\n",
       " 'penguins',\n",
       " 'planets',\n",
       " 'seaice',\n",
       " 'taxis',\n",
       " 'tips',\n",
       " 'titanic',\n",
       " 'anagrams',\n",
       " 'anagrams',\n",
       " 'anscombe',\n",
       " 'anscombe',\n",
       " 'attention',\n",
       " 'attention',\n",
       " 'brain_networks',\n",
       " 'brain_networks',\n",
       " 'car_crashes',\n",
       " 'car_crashes',\n",
       " 'diamonds',\n",
       " 'diamonds',\n",
       " 'dots',\n",
       " 'dots',\n",
       " 'dowjones',\n",
       " 'dowjones',\n",
       " 'exercise',\n",
       " 'exercise',\n",
       " 'flights',\n",
       " 'flights',\n",
       " 'fmri',\n",
       " 'fmri',\n",
       " 'geyser',\n",
       " 'geyser',\n",
       " 'glue',\n",
       " 'glue',\n",
       " 'healthexp',\n",
       " 'healthexp',\n",
       " 'iris',\n",
       " 'iris',\n",
       " 'mpg',\n",
       " 'mpg',\n",
       " 'penguins',\n",
       " 'penguins',\n",
       " 'planets',\n",
       " 'planets',\n",
       " 'seaice',\n",
       " 'seaice',\n",
       " 'taxis',\n",
       " 'taxis',\n",
       " 'tips',\n",
       " 'tips',\n",
       " 'titanic',\n",
       " 'titanic',\n",
       " 'anagrams',\n",
       " 'anscombe',\n",
       " 'attention',\n",
       " 'brain_networks',\n",
       " 'car_crashes',\n",
       " 'diamonds',\n",
       " 'dots',\n",
       " 'dowjones',\n",
       " 'exercise',\n",
       " 'flights',\n",
       " 'fmri',\n",
       " 'geyser',\n",
       " 'glue',\n",
       " 'healthexp',\n",
       " 'iris',\n",
       " 'mpg',\n",
       " 'penguins',\n",
       " 'planets',\n",
       " 'seaice',\n",
       " 'taxis',\n",
       " 'tips',\n",
       " 'titanic']"
      ]
     },
     "execution_count": 131,
     "metadata": {},
     "output_type": "execute_result"
    }
   ],
   "source": [
    "#3) Create a dataset and classify it into nominal, ordinal, interval, and ratio types?\n",
    "import seaborn as sns\n",
    "sns.get_dataset_names()\n"
   ]
  },
  {
   "cell_type": "code",
   "execution_count": 139,
   "id": "efa6f0de-6c4e-4c79-bd39-337dc8d43596",
   "metadata": {},
   "outputs": [
    {
     "data": {
      "text/html": [
       "<div>\n",
       "<style scoped>\n",
       "    .dataframe tbody tr th:only-of-type {\n",
       "        vertical-align: middle;\n",
       "    }\n",
       "\n",
       "    .dataframe tbody tr th {\n",
       "        vertical-align: top;\n",
       "    }\n",
       "\n",
       "    .dataframe thead th {\n",
       "        text-align: right;\n",
       "    }\n",
       "</style>\n",
       "<table border=\"1\" class=\"dataframe\">\n",
       "  <thead>\n",
       "    <tr style=\"text-align: right;\">\n",
       "      <th></th>\n",
       "      <th>survived</th>\n",
       "      <th>pclass</th>\n",
       "      <th>sex</th>\n",
       "      <th>age</th>\n",
       "      <th>sibsp</th>\n",
       "      <th>parch</th>\n",
       "      <th>fare</th>\n",
       "      <th>embarked</th>\n",
       "      <th>class</th>\n",
       "      <th>who</th>\n",
       "      <th>adult_male</th>\n",
       "      <th>deck</th>\n",
       "      <th>embark_town</th>\n",
       "      <th>alive</th>\n",
       "      <th>alone</th>\n",
       "    </tr>\n",
       "  </thead>\n",
       "  <tbody>\n",
       "    <tr>\n",
       "      <th>0</th>\n",
       "      <td>0</td>\n",
       "      <td>3</td>\n",
       "      <td>male</td>\n",
       "      <td>22.0</td>\n",
       "      <td>1</td>\n",
       "      <td>0</td>\n",
       "      <td>7.2500</td>\n",
       "      <td>S</td>\n",
       "      <td>Third</td>\n",
       "      <td>man</td>\n",
       "      <td>True</td>\n",
       "      <td>NaN</td>\n",
       "      <td>Southampton</td>\n",
       "      <td>no</td>\n",
       "      <td>False</td>\n",
       "    </tr>\n",
       "    <tr>\n",
       "      <th>1</th>\n",
       "      <td>1</td>\n",
       "      <td>1</td>\n",
       "      <td>female</td>\n",
       "      <td>38.0</td>\n",
       "      <td>1</td>\n",
       "      <td>0</td>\n",
       "      <td>71.2833</td>\n",
       "      <td>C</td>\n",
       "      <td>First</td>\n",
       "      <td>woman</td>\n",
       "      <td>False</td>\n",
       "      <td>C</td>\n",
       "      <td>Cherbourg</td>\n",
       "      <td>yes</td>\n",
       "      <td>False</td>\n",
       "    </tr>\n",
       "    <tr>\n",
       "      <th>2</th>\n",
       "      <td>1</td>\n",
       "      <td>3</td>\n",
       "      <td>female</td>\n",
       "      <td>26.0</td>\n",
       "      <td>0</td>\n",
       "      <td>0</td>\n",
       "      <td>7.9250</td>\n",
       "      <td>S</td>\n",
       "      <td>Third</td>\n",
       "      <td>woman</td>\n",
       "      <td>False</td>\n",
       "      <td>NaN</td>\n",
       "      <td>Southampton</td>\n",
       "      <td>yes</td>\n",
       "      <td>True</td>\n",
       "    </tr>\n",
       "    <tr>\n",
       "      <th>3</th>\n",
       "      <td>1</td>\n",
       "      <td>1</td>\n",
       "      <td>female</td>\n",
       "      <td>35.0</td>\n",
       "      <td>1</td>\n",
       "      <td>0</td>\n",
       "      <td>53.1000</td>\n",
       "      <td>S</td>\n",
       "      <td>First</td>\n",
       "      <td>woman</td>\n",
       "      <td>False</td>\n",
       "      <td>C</td>\n",
       "      <td>Southampton</td>\n",
       "      <td>yes</td>\n",
       "      <td>False</td>\n",
       "    </tr>\n",
       "    <tr>\n",
       "      <th>4</th>\n",
       "      <td>0</td>\n",
       "      <td>3</td>\n",
       "      <td>male</td>\n",
       "      <td>35.0</td>\n",
       "      <td>0</td>\n",
       "      <td>0</td>\n",
       "      <td>8.0500</td>\n",
       "      <td>S</td>\n",
       "      <td>Third</td>\n",
       "      <td>man</td>\n",
       "      <td>True</td>\n",
       "      <td>NaN</td>\n",
       "      <td>Southampton</td>\n",
       "      <td>no</td>\n",
       "      <td>True</td>\n",
       "    </tr>\n",
       "  </tbody>\n",
       "</table>\n",
       "</div>"
      ],
      "text/plain": [
       "   survived  pclass     sex   age  sibsp  parch     fare embarked  class  \\\n",
       "0         0       3    male  22.0      1      0   7.2500        S  Third   \n",
       "1         1       1  female  38.0      1      0  71.2833        C  First   \n",
       "2         1       3  female  26.0      0      0   7.9250        S  Third   \n",
       "3         1       1  female  35.0      1      0  53.1000        S  First   \n",
       "4         0       3    male  35.0      0      0   8.0500        S  Third   \n",
       "\n",
       "     who  adult_male deck  embark_town alive  alone  \n",
       "0    man        True  NaN  Southampton    no  False  \n",
       "1  woman       False    C    Cherbourg   yes  False  \n",
       "2  woman       False  NaN  Southampton   yes   True  \n",
       "3  woman       False    C  Southampton   yes  False  \n",
       "4    man        True  NaN  Southampton    no   True  "
      ]
     },
     "execution_count": 139,
     "metadata": {},
     "output_type": "execute_result"
    }
   ],
   "source": [
    "df = sns.load_dataset('titanic')\n",
    "df.head()"
   ]
  },
  {
   "cell_type": "code",
   "execution_count": 141,
   "id": "dfabf64b-ae94-4413-ba08-6d8d8ca85267",
   "metadata": {},
   "outputs": [],
   "source": [
    "# nominal data--sex\n",
    "# ordinal data -class\n",
    "# Interval data-age\n",
    "# ratio data-age\n"
   ]
  },
  {
   "cell_type": "code",
   "execution_count": 143,
   "id": "2eea958d-0959-4712-bd34-e8e29a2e54cd",
   "metadata": {},
   "outputs": [
    {
     "name": "stdout",
     "output_type": "stream",
     "text": [
      "Random Sample:\n",
      "   ID Name  Score\n",
      "2   3    C     95\n",
      "9  10    J     80\n",
      "6   7    G     85\n",
      "4   5    E     65\n",
      "0   1    A     88\n"
     ]
    }
   ],
   "source": [
    "#4) Implement sampling techniques like random sampling and stratified sampling?\n",
    "import pandas as pd\n",
    "\n",
    "# Sample dataset\n",
    "data = {\n",
    "    'ID': range(1, 11),\n",
    "    'Name': ['A', 'B', 'C', 'D', 'E', 'F', 'G', 'H', 'I', 'J'],\n",
    "    'Score': [88, 92, 95, 70, 65, 78, 85, 60, 90, 80]\n",
    "}\n",
    "\n",
    "df = pd.DataFrame(data)\n",
    "\n",
    "# Random sampling of 5 students\n",
    "random_sample = df.sample(n=5, random_state=1)\n",
    "\n",
    "print(\"Random Sample:\")\n",
    "print(random_sample)\n"
   ]
  },
  {
   "cell_type": "code",
   "execution_count": 145,
   "id": "9b404958-8363-445b-9163-dbe199fb94d6",
   "metadata": {},
   "outputs": [
    {
     "name": "stdout",
     "output_type": "stream",
     "text": [
      "Stratified Sample:\n",
      "   ID Name Grade  Score\n",
      "9  10    J    12     80\n",
      "4   5    E    11     65\n",
      "7   8    H    12     60\n",
      "3   4    D    10     70\n",
      "0   1    A     9     88\n"
     ]
    }
   ],
   "source": [
    "from sklearn.model_selection import train_test_split\n",
    "\n",
    "# Dataset with strata (Grade)\n",
    "data = {\n",
    "    'ID': range(1, 11),\n",
    "    'Name': ['A', 'B', 'C', 'D', 'E', 'F', 'G', 'H', 'I', 'J'],\n",
    "    'Grade': ['9', '9', '10', '10', '11', '11', '12', '12', '12', '12'],\n",
    "    'Score': [88, 92, 95, 70, 65, 78, 85, 60, 90, 80]\n",
    "}\n",
    "\n",
    "df = pd.DataFrame(data)\n",
    "\n",
    "# Stratified sampling: maintaining grade distribution\n",
    "stratified_sample, _ = train_test_split(df, test_size=0.5, stratify=df['Grade'], random_state=42)\n",
    "\n",
    "print(\"Stratified Sample:\")\n",
    "print(stratified_sample)\n"
   ]
  },
  {
   "cell_type": "code",
   "execution_count": 147,
   "id": "e37e0847-b791-4eb8-9ee4-8156b0f309d2",
   "metadata": {},
   "outputs": [
    {
     "data": {
      "text/plain": [
       "97"
      ]
     },
     "execution_count": 147,
     "metadata": {},
     "output_type": "execute_result"
    }
   ],
   "source": [
    "#5) Write a Python function to calculate the range of a dataset?\n",
    "data =[3,66,78,34,67,100]\n",
    "max(data) - min(data)"
   ]
  },
  {
   "cell_type": "code",
   "execution_count": 151,
   "id": "aaf7372f-ab70-431e-82b1-b173e9b7f8bb",
   "metadata": {},
   "outputs": [
    {
     "name": "stderr",
     "output_type": "stream",
     "text": [
      "C:\\Users\\dell\\anaconda3\\Lib\\site-packages\\seaborn\\_oldcore.py:1119: FutureWarning: use_inf_as_na option is deprecated and will be removed in a future version. Convert inf values to NaN before operating instead.\n",
      "  with pd.option_context('mode.use_inf_as_na', True):\n"
     ]
    },
    {
     "data": {
      "text/plain": [
       "<Axes: ylabel='Count'>"
      ]
     },
     "execution_count": 151,
     "metadata": {},
     "output_type": "execute_result"
    },
    {
     "data": {
      "image/png": "[encoded data removed]",
      "text/plain": [
       "<Figure size 640x480 with 1 Axes>"
      ]
     },
     "metadata": {},
     "output_type": "display_data"
    }
   ],
   "source": [
    "#6) Create a dataset and plot its histogram to visualize skewness?\n",
    "data = {\n",
    "    'ID': range(1, 11),\n",
    "    'Name': ['A', 'B', 'C', 'D', 'E', 'F', 'G', 'H', 'I', 'J'],\n",
    "    'Grade': ['9', '9', '10', '10', '11', '11', '12', '12', '12', '12'],\n",
    "    'Score': [88, 92, 95, 70, 65, 78, 85, 60, 90, 80]\n",
    "}\n",
    "sns.histplot(data)"
   ]
  },
  {
   "cell_type": "code",
   "execution_count": 153,
   "id": "242bcd8d-74d5-436f-93cd-8e3d432cc17c",
   "metadata": {},
   "outputs": [
    {
     "name": "stdout",
     "output_type": "stream",
     "text": [
      "Skewness of Score: -0.46627844712434674\n",
      "Kurtosis of Score: -1.1004883331413513\n"
     ]
    }
   ],
   "source": [
    "#7)Calculate skewness and kurtosis of a dataset using Python libraries?\n",
    "import pandas as pd\n",
    "from scipy.stats import skew, kurtosis\n",
    "\n",
    "# Sample dataset (e.g., test scores of 10 students)\n",
    "data = {\n",
    "    'Score': [88, 92, 95, 70, 65, 78, 85, 60, 90, 80]\n",
    "}\n",
    "\n",
    "df = pd.DataFrame(data)\n",
    "\n",
    "# Calculate Skewness\n",
    "skewness = skew(df['Score'])\n",
    "\n",
    "# Calculate Kurtosis (Excess kurtosis by default in scipy)\n",
    "kurt = kurtosis(df['Score'])\n",
    "\n",
    "print(\"Skewness of Score:\", skewness)\n",
    "print(\"Kurtosis of Score:\", kurt)\n"
   ]
  },
  {
   "cell_type": "code",
   "execution_count": 155,
   "id": "e031c9ab-0d5b-4aac-acb8-7fd55fdf1bc9",
   "metadata": {},
   "outputs": [
    {
     "data": {
      "image/png": "[encoded data removed]",
      "text/plain": [
       "<Figure size 1200x500 with 2 Axes>"
      ]
     },
     "metadata": {},
     "output_type": "display_data"
    }
   ],
   "source": [
    "#8) Generate a dataset and demonstrate positive and negative skewness?\n",
    "import numpy as np\n",
    "import pandas as pd\n",
    "import matplotlib.pyplot as plt\n",
    "from scipy.stats import skew\n",
    "\n",
    "# Generate datasets\n",
    "np.random.seed(0)\n",
    "\n",
    "# 1. Positive Skew: Right skewed (e.g., exponential distribution)\n",
    "positive_skew_data = np.random.exponential(scale=2, size=1000)\n",
    "\n",
    "# 2. Negative Skew: Left skewed (e.g., flipped exponential)\n",
    "negative_skew_data = -np.random.exponential(scale=2, size=1000) + 10\n",
    "\n",
    "# Create DataFrames\n",
    "df = pd.DataFrame({\n",
    "    'Positive Skew': positive_skew_data,\n",
    "    'Negative Skew': negative_skew_data\n",
    "})\n",
    "\n",
    "# Calculate Skewness\n",
    "pos_skewness = skew(df['Positive Skew'])\n",
    "neg_skewness = skew(df['Negative Skew'])\n",
    "\n",
    "# Plotting the histograms\n",
    "plt.figure(figsize=(12, 5))\n",
    "\n",
    "# Positive Skew\n",
    "plt.subplot(1, 2, 1)\n",
    "plt.hist(df['Positive Skew'], bins=30, color='skyblue', edgecolor='black')\n",
    "plt.title(f'Positive Skewness\\nSkew = {pos_skewness:.2f}')\n",
    "plt.xlabel('Value')\n",
    "plt.ylabel('Frequency')\n",
    "\n",
    "# Negative Skew\n",
    "plt.subplot(1, 2, 2)\n",
    "plt.hist(df['Negative Skew'], bins=30, color='salmon', edgecolor='black')\n",
    "plt.title(f'Negative Skewness\\nSkew = {neg_skewness:.2f}')\n",
    "plt.xlabel('Value')\n",
    "plt.ylabel('Frequency')\n",
    "\n",
    "plt.tight_layout()\n",
    "plt.show()\n"
   ]
  },
  {
   "cell_type": "code",
   "execution_count": 157,
   "id": "e0050c6f-04b2-4612-b18c-2a79072d9d6e",
   "metadata": {},
   "outputs": [
    {
     "name": "stdout",
     "output_type": "stream",
     "text": [
      "NumPy Covariance: 3.04\n"
     ]
    }
   ],
   "source": [
    "#9)Write a Python script to calculate covariance between two datasets?\n",
    "X = [65, 66, 67, 69, 70]\n",
    "Y = [67, 68, 65, 72, 70]\n",
    "np_cov = np.cov(X, Y, bias=True)[0][1]  # bias=True gives population covariance\n",
    "print(\"NumPy Covariance:\", np_cov)\n"
   ]
  },
  {
   "cell_type": "code",
   "execution_count": 159,
   "id": "ace9c719-5fcf-4edd-805b-27496164658f",
   "metadata": {},
   "outputs": [
    {
     "name": "stdout",
     "output_type": "stream",
     "text": [
      "NumPy Correlation Coefficient: 0.6782\n"
     ]
    }
   ],
   "source": [
    "#10)Write a Python script to calculate the correlation coefficient between two datasets?\n",
    "np_corr = np.corrcoef(X, Y)[0, 1]\n",
    "print(\"NumPy Correlation Coefficient:\", round(np_corr, 4))\n"
   ]
  },
  {
   "cell_type": "code",
   "execution_count": 163,
   "id": "107e0930-22d1-46d1-b798-94ec0a0f7d2d",
   "metadata": {},
   "outputs": [
    {
     "data": {
      "text/plain": [
       "<Axes: >"
      ]
     },
     "execution_count": 163,
     "metadata": {},
     "output_type": "execute_result"
    },
    {
     "data": {
      "image/png": "[encoded data removed]",
      "text/plain": [
       "<Figure size 640x480 with 1 Axes>"
      ]
     },
     "metadata": {},
     "output_type": "display_data"
    }
   ],
   "source": [
    "#11)Create a scatter plot to visualize the relationship between two variables5\n",
    "sns.scatterplot(x=X,y=Y)"
   ]
  },
  {
   "cell_type": "code",
   "execution_count": 165,
   "id": "aef57942-30cb-490e-b295-00044270959e",
   "metadata": {},
   "outputs": [
    {
     "name": "stdout",
     "output_type": "stream",
     "text": [
      "Simple Random Sample:\n",
      "  ID\n",
      "  1\n",
      " 11\n",
      " 23\n",
      " 40\n",
      " 45\n",
      " 46\n",
      " 54\n",
      " 71\n",
      " 81\n",
      " 84\n",
      "\n",
      "Systematic Sample:\n",
      "  ID\n",
      "  6\n",
      " 16\n",
      " 26\n",
      " 36\n",
      " 46\n",
      " 56\n",
      " 66\n",
      " 76\n",
      " 86\n",
      " 96\n"
     ]
    },
    {
     "data": {
      "image/png": "[encoded data removed]",
      "text/plain": [
       "<Figure size 1000x200 with 1 Axes>"
      ]
     },
     "metadata": {},
     "output_type": "display_data"
    }
   ],
   "source": [
    "#12)Implement and compare simple random sampling and systematic sampling?\n",
    "import numpy as np\n",
    "import pandas as pd\n",
    "import matplotlib.pyplot as plt\n",
    "\n",
    "# Create a dataset (IDs 1 to 100)\n",
    "data = pd.DataFrame({'ID': np.arange(1, 101)})\n",
    "\n",
    "# ----------------------------\n",
    "# 1. Simple Random Sampling\n",
    "# ----------------------------\n",
    "random_sample = data.sample(n=10, random_state=42)\n",
    "print(\"Simple Random Sample:\\n\", random_sample.sort_values('ID').to_string(index=False))\n",
    "\n",
    "# ----------------------------\n",
    "# 2. Systematic Sampling\n",
    "# ----------------------------\n",
    "def systematic_sampling(df, sample_size):\n",
    "    step = len(df) // sample_size\n",
    "    start = np.random.randint(0, step)\n",
    "    indices = np.arange(start, len(df), step)\n",
    "    return df.iloc[indices[:sample_size]]\n",
    "\n",
    "systematic_sample = systematic_sampling(data, 10)\n",
    "print(\"\\nSystematic Sample:\\n\", systematic_sample.sort_values('ID').to_string(index=False))\n",
    "\n",
    "# ----------------------------\n",
    "#  Visual Comparison\n",
    "# ----------------------------\n",
    "plt.figure(figsize=(10, 2))\n",
    "plt.scatter(data['ID'], [1]*len(data), label='Population', color='lightgray')\n",
    "plt.scatter(random_sample['ID'], [1]*10, label='Random Sample', color='blue', s=80, marker='|')\n",
    "plt.scatter(systematic_sample['ID'], [1]*10, label='Systematic Sample', color='red', s=80, marker='x')\n",
    "plt.yticks([])\n",
    "plt.xlabel('ID')\n",
    "plt.title('Random vs. Systematic Sampling')\n",
    "plt.legend()\n",
    "plt.grid(True)\n",
    "plt.tight_layout()\n",
    "plt.show()\n"
   ]
  },
  {
   "cell_type": "code",
   "execution_count": 167,
   "id": "b40e34e5-116b-4772-a036-ee49f3331e1b",
   "metadata": {},
   "outputs": [
    {
     "name": "stdout",
     "output_type": "stream",
     "text": [
      "Mean: 27.0\n",
      "Median: 28.0\n",
      "Mode: 30.91\n"
     ]
    }
   ],
   "source": [
    "#13)Calculate the mean, median, and mode of grouped data.\n",
    "def grouped_stats(classes, freq):\n",
    "    # Midpoints\n",
    "    mid = [(int(i.split('-')[0]) + int(i.split('-')[1])) / 2 for i in classes]\n",
    "\n",
    "    # Mean\n",
    "    N = sum(freq)\n",
    "    mean = sum(f * m for f, m in zip(freq, mid)) / N\n",
    "\n",
    "    # Cumulative Frequency\n",
    "    cf = [sum(freq[:i+1]) for i in range(len(freq))]\n",
    "\n",
    "    # Median\n",
    "    for i in range(len(cf)):\n",
    "        if cf[i] >= N/2:\n",
    "            L = int(classes[i].split('-')[0])\n",
    "            h = int(classes[i].split('-')[1]) - L\n",
    "            F = cf[i-1] if i > 0 else 0\n",
    "            f = freq[i]\n",
    "            median = L + ((N/2 - F)/f)*h\n",
    "            break\n",
    "\n",
    "    # Mode\n",
    "    i = freq.index(max(freq))\n",
    "    L = int(classes[i].split('-')[0])\n",
    "    h = int(classes[i].split('-')[1]) - L\n",
    "    f1 = freq[i]\n",
    "    f0 = freq[i-1] if i > 0 else 0\n",
    "    f2 = freq[i+1] if i+1 < len(freq) else 0\n",
    "    mode = L + ((f1 - f0) / (2*f1 - f0 - f2)) * h\n",
    "\n",
    "    return round(mean, 2), round(median, 2), round(mode, 2)\n",
    "\n",
    "# Sample input\n",
    "classes = ['0-10', '10-20', '20-30', '30-40', '40-50']\n",
    "freq = [5, 8, 15, 16, 6]\n",
    "\n",
    "# Call the function\n",
    "mean, median, mode = grouped_stats(classes, freq)\n",
    "print(\"Mean:\", mean)\n",
    "print(\"Median:\", median)\n",
    "print(\"Mode:\", mode)\n"
   ]
  },
  {
   "cell_type": "code",
   "execution_count": 169,
   "id": "022ef3a0-de36-4b1e-b85a-7ee0d50f02f8",
   "metadata": {},
   "outputs": [
    {
     "name": "stdout",
     "output_type": "stream",
     "text": [
      "Simulated Data (first 10): [94, 97, 50, 53, 53, 89, 59, 69, 71, 86]\n",
      "Mean: 72.5\n",
      "Median: 70.5\n",
      "Mode: 50\n",
      "Variance: 217.83\n",
      "Standard Deviation: 14.76\n",
      "Range: 49\n"
     ]
    }
   ],
   "source": [
    "#14)Simulate data using Python and calculate its central tendency and dispersion.\n",
    "import numpy as np\n",
    "import pandas as pd\n",
    "from scipy import stats\n",
    "\n",
    "# Step 1: Simulate data (e.g., 100 exam scores between 50 and 100)\n",
    "np.random.seed(0)\n",
    "data = np.random.randint(50, 100, size=100)\n",
    "\n",
    "# Convert to Pandas Series\n",
    "series = pd.Series(data)\n",
    "\n",
    "# Step 2: Central Tendency\n",
    "mean = series.mean()\n",
    "median = series.median()\n",
    "mode = series.mode()[0]  # mode() returns a Series\n",
    "\n",
    "# Step 3: Dispersion\n",
    "variance = series.var()\n",
    "std_dev = series.std()\n",
    "data_range = series.max() - series.min()\n",
    "\n",
    "# Step 4: Display Results\n",
    "print(\"Simulated Data (first 10):\", series.head(10).tolist())\n",
    "print(\"Mean:\", round(mean, 2))\n",
    "print(\"Median:\", median)\n",
    "print(\"Mode:\", mode)\n",
    "print(\"Variance:\", round(variance, 2))\n",
    "print(\"Standard Deviation:\", round(std_dev, 2))\n",
    "print(\"Range:\", data_range)\n"
   ]
  },
  {
   "cell_type": "code",
   "execution_count": 173,
   "id": "f09c52ca-7153-44b0-9b1d-5b2d04a05a44",
   "metadata": {},
   "outputs": [
    {
     "data": {
      "text/html": [
       "<div>\n",
       "<style scoped>\n",
       "    .dataframe tbody tr th:only-of-type {\n",
       "        vertical-align: middle;\n",
       "    }\n",
       "\n",
       "    .dataframe tbody tr th {\n",
       "        vertical-align: top;\n",
       "    }\n",
       "\n",
       "    .dataframe thead th {\n",
       "        text-align: right;\n",
       "    }\n",
       "</style>\n",
       "<table border=\"1\" class=\"dataframe\">\n",
       "  <thead>\n",
       "    <tr style=\"text-align: right;\">\n",
       "      <th></th>\n",
       "      <th>Score</th>\n",
       "    </tr>\n",
       "  </thead>\n",
       "  <tbody>\n",
       "    <tr>\n",
       "      <th>count</th>\n",
       "      <td>10.000000</td>\n",
       "    </tr>\n",
       "    <tr>\n",
       "      <th>mean</th>\n",
       "      <td>80.300000</td>\n",
       "    </tr>\n",
       "    <tr>\n",
       "      <th>std</th>\n",
       "      <td>11.954079</td>\n",
       "    </tr>\n",
       "    <tr>\n",
       "      <th>min</th>\n",
       "      <td>60.000000</td>\n",
       "    </tr>\n",
       "    <tr>\n",
       "      <th>25%</th>\n",
       "      <td>72.000000</td>\n",
       "    </tr>\n",
       "    <tr>\n",
       "      <th>50%</th>\n",
       "      <td>82.500000</td>\n",
       "    </tr>\n",
       "    <tr>\n",
       "      <th>75%</th>\n",
       "      <td>89.500000</td>\n",
       "    </tr>\n",
       "    <tr>\n",
       "      <th>max</th>\n",
       "      <td>95.000000</td>\n",
       "    </tr>\n",
       "  </tbody>\n",
       "</table>\n",
       "</div>"
      ],
      "text/plain": [
       "           Score\n",
       "count  10.000000\n",
       "mean   80.300000\n",
       "std    11.954079\n",
       "min    60.000000\n",
       "25%    72.000000\n",
       "50%    82.500000\n",
       "75%    89.500000\n",
       "max    95.000000"
      ]
     },
     "execution_count": 173,
     "metadata": {},
     "output_type": "execute_result"
    }
   ],
   "source": [
    "#15) Use NumPy or pandas to summarize a dataset’s descriptive statistics.\n",
    "data = {\n",
    "    'Score': [88, 92, 95, 70, 65, 78, 85, 60, 90, 80]\n",
    "}\n",
    "\n",
    "df = pd.DataFrame(data)\n",
    "df.describe()"
   ]
  },
  {
   "cell_type": "code",
   "execution_count": 179,
   "id": "e342e1cf-8506-46b7-b7ef-981b02f0599b",
   "metadata": {},
   "outputs": [
    {
     "data": {
      "text/plain": [
       "<Axes: >"
      ]
     },
     "execution_count": 179,
     "metadata": {},
     "output_type": "execute_result"
    },
    {
     "data": {
      "image/png": "[encoded data removed]",
      "text/plain": [
       "<Figure size 640x480 with 1 Axes>"
      ]
     },
     "metadata": {},
     "output_type": "display_data"
    }
   ],
   "source": [
    "#16)Plot a boxplot to understand the spread and identify outliers.\n",
    "sns.boxplot(df)"
   ]
  },
  {
   "cell_type": "code",
   "execution_count": 183,
   "id": "cc13b4b7-2700-4f88-b907-3a7fac211998",
   "metadata": {},
   "outputs": [
    {
     "name": "stdout",
     "output_type": "stream",
     "text": [
      "Q1 (25th percentile): 15.75\n",
      "Q3 (75th percentile): 27.5\n",
      "Interquartile Range (IQR): 11.75\n"
     ]
    }
   ],
   "source": [
    "#17)Calculate the interquartile range (IQR) of a dataset\n",
    "import numpy as np\n",
    "\n",
    "# Sample dataset\n",
    "data = [10, 15, 14, 18, 21, 22, 23, 29, 31, 35]\n",
    "\n",
    "# Calculate Q1 and Q3\n",
    "Q1 = np.percentile(data, 25)\n",
    "Q3 = np.percentile(data, 75)\n",
    "\n",
    "# Calculate IQR\n",
    "IQR = Q3 - Q1\n",
    "\n",
    "print(\"Q1 (25th percentile):\", Q1)\n",
    "print(\"Q3 (75th percentile):\", Q3)\n",
    "print(\"Interquartile Range (IQR):\", IQR)\n"
   ]
  },
  {
   "cell_type": "code",
   "execution_count": 185,
   "id": "cb14975b-e9ff-4148-8492-7e0f1ac81fd4",
   "metadata": {},
   "outputs": [
    {
     "name": "stdout",
     "output_type": "stream",
     "text": [
      "Original Data:\n",
      " [10, 12, 15, 18, 20, 25, 30]\n",
      "Z-Score Normalized Data:\n",
      " [-1.2, -0.92, -0.5, -0.08, 0.2, 0.9, 1.61]\n"
     ]
    }
   ],
   "source": [
    "#18)$ Implement Z-score normalization and explain its significance\n",
    "import numpy as np\n",
    "import pandas as pd\n",
    "\n",
    "# Example dataset\n",
    "data = [10, 12, 15, 18, 20, 25, 30]\n",
    "\n",
    "# Convert to pandas Series\n",
    "df = pd.Series(data)\n",
    "\n",
    "# Calculate mean and std\n",
    "mean = df.mean()\n",
    "std = df.std()\n",
    "\n",
    "# Z-score normalization\n",
    "z_scores = (df - mean) / std\n",
    "\n",
    "# Output\n",
    "print(\"Original Data:\\n\", df.tolist())\n",
    "print(\"Z-Score Normalized Data:\\n\", z_scores.round(2).tolist())\n",
    "\n"
   ]
  },
  {
   "cell_type": "code",
   "execution_count": 187,
   "id": "1cc004e8-af21-4460-a989-e97fafb9e9f4",
   "metadata": {},
   "outputs": [
    {
     "name": "stdout",
     "output_type": "stream",
     "text": [
      "Dataset 1 - Mean: 14.0 | Std Dev: 2.83\n",
      "Dataset 2 - Mean: 15.0 | Std Dev: 7.07\n",
      "Dataset 1 is more consistent (less variability).\n"
     ]
    }
   ],
   "source": [
    "#19) Compare two datasets using their standard deviations.\n",
    "import numpy as np\n",
    "\n",
    "# Sample datasets\n",
    "data1 = [10, 12, 14, 16, 18]      # Tightly packed\n",
    "data2 = [5, 10, 15, 20, 25]       # More spread\n",
    "\n",
    "# Calculate mean and standard deviation\n",
    "mean1, std1 = np.mean(data1), np.std(data1)\n",
    "mean2, std2 = np.mean(data2), np.std(data2)\n",
    "\n",
    "# Print summary\n",
    "print(\"Dataset 1 - Mean:\", mean1, \"| Std Dev:\", round(std1, 2))\n",
    "print(\"Dataset 2 - Mean:\", mean2, \"| Std Dev:\", round(std2, 2))\n",
    "\n",
    "# Compare\n",
    "if std1 < std2:\n",
    "    print(\"Dataset 1 is more consistent (less variability).\")\n",
    "elif std1 > std2:\n",
    "    print(\"Dataset 2 is more consistent (less variability).\")\n",
    "else:\n",
    "    print(\"Both datasets have equal variability.\")\n",
    "\n"
   ]
  },
  {
   "cell_type": "code",
   "execution_count": 189,
   "id": "f5f2f8e5-f37b-42fc-bbaa-3195e61df617",
   "metadata": {},
   "outputs": [
    {
     "data": {
      "image/png": "[encoded data removed]",
      "text/plain": [
       "<Figure size 600x400 with 2 Axes>"
      ]
     },
     "metadata": {},
     "output_type": "display_data"
    }
   ],
   "source": [
    "#20) Write a Python program to visualize covariance using a heatmap\n",
    "import numpy as np\n",
    "import pandas as pd\n",
    "import seaborn as sns\n",
    "import matplotlib.pyplot as plt\n",
    "\n",
    "# Step 1: Create a sample DataFrame\n",
    "np.random.seed(0)\n",
    "data = {\n",
    "    'Math': np.random.randint(60, 100, 10),\n",
    "    'Science': np.random.randint(50, 100, 10),\n",
    "    'English': np.random.randint(40, 90, 10)\n",
    "}\n",
    "df = pd.DataFrame(data)\n",
    "\n",
    "# Step 2: Compute covariance matrix\n",
    "cov_matrix = df.cov()\n",
    "\n",
    "# Step 3: Plot heatmap\n",
    "plt.figure(figsize=(6, 4))\n",
    "sns.heatmap(cov_matrix, annot=True, cmap='coolwarm', fmt=\".2f\")\n",
    "plt.title(\"Covariance Heatmap\")\n",
    "plt.show()\n",
    "\n"
   ]
  },
  {
   "cell_type": "code",
   "execution_count": 191,
   "id": "3143a0c3-0612-4852-b7eb-4bb3c917c760",
   "metadata": {},
   "outputs": [
    {
     "data": {
      "image/png": "[encoded data removed]",
      "text/plain": [
       "<Figure size 600x400 with 2 Axes>"
      ]
     },
     "metadata": {},
     "output_type": "display_data"
    }
   ],
   "source": [
    "#21) Use seaborn to create a correlation matrix for a dataset\n",
    "import seaborn as sns\n",
    "import pandas as pd\n",
    "import matplotlib.pyplot as plt\n",
    "\n",
    "# Step 1: Create or load a dataset\n",
    "# Example dataset\n",
    "data = {\n",
    "    'Math': [88, 92, 80, 89, 100],\n",
    "    'Science': [90, 85, 78, 88, 95],\n",
    "    'English': [85, 87, 70, 80, 90],\n",
    "    'History': [75, 80, 72, 78, 85]\n",
    "}\n",
    "df = pd.DataFrame(data)\n",
    "\n",
    "# Step 2: Compute the correlation matrix\n",
    "corr_matrix = df.corr()\n",
    "\n",
    "# Step 3: Plot the correlation heatmap\n",
    "plt.figure(figsize=(6, 4))\n",
    "sns.heatmap(corr_matrix, annot=True, cmap='YlGnBu', fmt=\".2f\")\n",
    "plt.title(\"Correlation Matrix Heatmap\")\n",
    "plt.show()\n",
    "\n"
   ]
  },
  {
   "cell_type": "code",
   "execution_count": 197,
   "id": "00c05cd2-a6c3-42aa-97a1-a4f1e006ea37",
   "metadata": {},
   "outputs": [
    {
     "name": "stdout",
     "output_type": "stream",
     "text": [
      "Dataset: [88 78 64 92 57 70 88 68 72 60]\n",
      "137.21\n",
      "11.713667231059622\n"
     ]
    }
   ],
   "source": [
    "#22) Generate a dataset and implement both variance and standard deviation computations>\n",
    "np.random.seed(42)\n",
    "data = np.random.randint(50, 100, size=10)\n",
    "\n",
    "print(\"Dataset:\", data)\n",
    "\n",
    "# Step 2: Using NumPy\n",
    "variance_np = np.var(data)           \n",
    "std_dev_np = np.std(data) \n",
    "\n",
    "print(variance_np)\n",
    "print(std_dev_np)\n"
   ]
  },
  {
   "cell_type": "code",
   "execution_count": 199,
   "id": "37898c50-4d80-470e-bbd8-d49c16bde6a0",
   "metadata": {},
   "outputs": [
    {
     "name": "stderr",
     "output_type": "stream",
     "text": [
      "C:\\Users\\dell\\anaconda3\\Lib\\site-packages\\seaborn\\_oldcore.py:1119: FutureWarning: use_inf_as_na option is deprecated and will be removed in a future version. Convert inf values to NaN before operating instead.\n",
      "  with pd.option_context('mode.use_inf_as_na', True):\n"
     ]
    },
    {
     "data": {
      "image/png": "[encoded data removed]",
      "text/plain": [
       "<Figure size 800x500 with 1 Axes>"
      ]
     },
     "metadata": {},
     "output_type": "display_data"
    }
   ],
   "source": [
    "#23) Visualize skewness and kurtosis using Python libraries like matplotlib or seaborn.\n",
    "import numpy as np\n",
    "import seaborn as sns\n",
    "import matplotlib.pyplot as plt\n",
    "from scipy.stats import skew, kurtosis\n",
    "\n",
    "# Step 1: Generate a skewed dataset\n",
    "np.random.seed(1)\n",
    "data = np.random.gamma(shape=2.0, scale=2.0, size=1000)  # Positively skewed\n",
    "\n",
    "# Step 2: Calculate skewness and kurtosis\n",
    "skewness = skew(data)\n",
    "kurt = kurtosis(data)  # Excess kurtosis\n",
    "\n",
    "# Step 3: Plot the distribution\n",
    "plt.figure(figsize=(8, 5))\n",
    "sns.histplot(data, bins=30, kde=True, color='skyblue')\n",
    "plt.title(f\"Skewness = {skewness:.2f}, Kurtosis = {kurt:.2f}\")\n",
    "plt.xlabel(\"Value\")\n",
    "plt.ylabel(\"Frequency\")\n",
    "plt.grid(True)\n",
    "plt.show()\n"
   ]
  },
  {
   "cell_type": "code",
   "execution_count": 201,
   "id": "bf25b67a-8f56-46ea-a115-35fca1486f9d",
   "metadata": {},
   "outputs": [
    {
     "name": "stdout",
     "output_type": "stream",
     "text": [
      "Pearson Correlation Coefficient: 0.87\n",
      "Spearman Correlation Coefficient: 0.6\n"
     ]
    }
   ],
   "source": [
    "#24) Implement the Pearson and Spearman correlation coefficients for a dataset.\n",
    "import numpy as np\n",
    "import pandas as pd\n",
    "from scipy.stats import pearsonr, spearmanr\n",
    "\n",
    "# Step 1: Create or simulate a dataset\n",
    "data = {\n",
    "    'Math': [88, 92, 80, 89, 100],\n",
    "    'Science': [90, 85, 78, 88, 95]\n",
    "}\n",
    "df = pd.DataFrame(data)\n",
    "\n",
    "# Step 2: Pearson correlation\n",
    "pearson_corr, _ = pearsonr(df['Math'], df['Science'])\n",
    "\n",
    "# Step 3: Spearman correlation\n",
    "spearman_corr, _ = spearmanr(df['Math'], df['Science'])\n",
    "\n",
    "# Step 4: Output results\n",
    "print(\"Pearson Correlation Coefficient:\", round(pearson_corr, 2))\n",
    "print(\"Spearman Correlation Coefficient:\", round(spearman_corr, 2))\n"
   ]
  },
  {
   "cell_type": "code",
   "execution_count": null,
   "id": "8c0e1e53-c01a-4e43-8326-edfe47b51376",
   "metadata": {},
   "outputs": [],
   "source": []
  }
 ],
 "metadata": {
  "kernelspec": {
   "display_name": "Python 3 (ipykernel)",
   "language": "python",
   "name": "python3"
  },
  "language_info": {
   "codemirror_mode": {
    "name": "ipython",
    "version": 3
   },
   "file_extension": ".py",
   "mimetype": "text/x-python",
   "name": "python",
   "nbconvert_exporter": "python",
   "pygments_lexer": "ipython3",
   "version": "3.11.7"
  }
 },
 "nbformat": 4,
 "nbformat_minor": 5
}
