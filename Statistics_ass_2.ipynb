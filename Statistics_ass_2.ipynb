{
 "cells": [
  {
   "cell_type": "code",
   "execution_count": null,
   "id": "bf3bd704-e1b7-4e53-85e3-6160dea87809",
   "metadata": {},
   "outputs": [],
   "source": [
    "# 1.What is a random variable in probability theory?\n",
    "# A set of possible values from a random experiment."
   ]
  },
  {
   "cell_type": "code",
   "execution_count": null,
   "id": "58ebe395-ad9e-4297-a6da-792382eaf922",
   "metadata": {},
   "outputs": [],
   "source": [
    "# 2.What are the types of random variables?\n",
    "# discrete random variable,\n",
    "# continuous random variable."
   ]
  },
  {
   "cell_type": "code",
   "execution_count": null,
   "id": "28c80e46-4842-44fd-bca8-243abe3885f6",
   "metadata": {},
   "outputs": [],
   "source": [
    "# 3.What is the difference between discrete and continuous distributions?\n",
    "# In discrete distrubution we take the discrete values of random variable .\n",
    "# In continuous distubution we take the continuous values of variable."
   ]
  },
  {
   "cell_type": "code",
   "execution_count": null,
   "id": "18383873-59ce-457a-868d-467632ab7ed4",
   "metadata": {},
   "outputs": [],
   "source": [
    "# 4.What are probability distribution functions (PDF)?\n",
    "# Probabilitity distribution function is the distribution of discrete random variable."
   ]
  },
  {
   "cell_type": "code",
   "execution_count": null,
   "id": "2d6dc3dc-b5cc-4c73-95a4-2a81ebda8a7c",
   "metadata": {},
   "outputs": [],
   "source": [
    "# 5. How do cumulative distribution functions (CDF) differ from probability distribution functions (PDF)?\n",
    "# CDF take the summantion of all probability possible upto a given point where PDF  gives probability values at only given point."
   ]
  },
  {
   "cell_type": "code",
   "execution_count": null,
   "id": "dc67b7f3-aa08-4fc0-9b82-91a64add544c",
   "metadata": {},
   "outputs": [],
   "source": [
    "# 6.What is a discrete uniform distribution?\n",
    "# in discrte uniform distribution outcomes are discrete and have same probability value. "
   ]
  },
  {
   "cell_type": "code",
   "execution_count": null,
   "id": "e263bd91-8fab-4990-929e-3c7a2b59d8ad",
   "metadata": {},
   "outputs": [],
   "source": [
    "# 7.What are the key properties of a Bernoulli distribution?\n",
    "# In bernoulli distribution only two outcomes are possible,\n",
    "# number of trial should be finite ,\n",
    "# each trial should be independent of each other,\n",
    "# probability of each output should be same in every trial."
   ]
  },
  {
   "cell_type": "code",
   "execution_count": null,
   "id": "04f44e05-99d8-418a-b543-112291ab09f5",
   "metadata": {},
   "outputs": [],
   "source": [
    "# 8.What is the binomial distribution, and how is it used in probability?\n",
    "# Binomial distribution is n numbers of bernoulli trial it is used in probability to get probability value of different bernoulli trial."
   ]
  },
  {
   "cell_type": "code",
   "execution_count": 1,
   "id": "4234d193-abe2-4ea7-bf3e-c4664d00d939",
   "metadata": {},
   "outputs": [],
   "source": [
    "# 9. What is the Poisson distribution and where is it applied?\n",
    "# Possion distribution discribe the no of events that occur within a fixed interval of time or space given a known average rate of occurance."
   ]
  },
  {
   "cell_type": "code",
   "execution_count": 3,
   "id": "ecb9595b-c893-4187-b0a9-8f9b40ab4a99",
   "metadata": {},
   "outputs": [],
   "source": [
    "# 10.What is a continuous uniform distribution?\n",
    "# In continuous uniform distribution outcomes are continuous and have infinite number of values in a specified range/bound."
   ]
  },
  {
   "cell_type": "code",
   "execution_count": 5,
   "id": "8a20debb-3e7e-4646-ae9b-7ed4016b3b48",
   "metadata": {},
   "outputs": [],
   "source": [
    "# 11.What are the characteristics of a normal distribution?\n",
    "# normal distribution is used on real world data,\n",
    "# normal distribution is symmetrical about mean.\n",
    "# skewness of normal distribution is zero.\n",
    "# mean, median, mode are equal in normal distribution."
   ]
  },
  {
   "cell_type": "code",
   "execution_count": 7,
   "id": "4560ea77-34d1-498f-93d8-b106a7f122fa",
   "metadata": {},
   "outputs": [],
   "source": [
    "# 12.What is the standard normal distribution, and why is it important?\n",
    "# standard normal distribution is a specific case normal distribution where mean is equal to zero and standard deviation is equal to one.\n",
    "# Its important to convert different data on same scale of values."
   ]
  },
  {
   "cell_type": "code",
   "execution_count": null,
   "id": "e6e0c52e-8276-49bf-9d76-12c9f7710675",
   "metadata": {},
   "outputs": [],
   "source": [
    "# 13.What is the Central Limit Theorem (CLT), and why is it critical in statistics?\n",
    "# The CTL states that if you have a population with a mean and standard deviation and take sufficiently large number of random\n",
    "# sample from the popuation with replacemenr rhen the distribution of sample means will be approximately normally distributed."
   ]
  },
  {
   "cell_type": "code",
   "execution_count": null,
   "id": "8b0642b8-6143-4838-9fe2-e92f8073286d",
   "metadata": {},
   "outputs": [],
   "source": [
    "# 14.how does the Central Limit Theorem relate to the normal distribution?\n",
    "# sampling mean of  a population will approximatelly be a normal distribution."
   ]
  },
  {
   "cell_type": "code",
   "execution_count": null,
   "id": "9121444b-6833-45c8-b7a7-b61d7a3b7468",
   "metadata": {},
   "outputs": [],
   "source": [
    "# 15 What is the application of Z statistics in hypothesis testing?\n",
    "# Z-statistics in hypothesis testing are used to determine whether there is a significant difference between a sample \n",
    "# mean and a population mean, or between the means of two samples, when the population variance is known or the sample size is large\n",
    "# (generally n ≥ 30). They help assess whether observed differences are likely due to random chance or represent a true effect. "
   ]
  },
  {
   "cell_type": "code",
   "execution_count": null,
   "id": "978a6a53-413c-412b-8e88-0c2df6b077fc",
   "metadata": {},
   "outputs": [],
   "source": [
    "# 16 How do you calculate a Z-score, and what does it represent?\n",
    "# Z score = X- mean/ sytandard deviation.\n",
    "# the number of standard deviations a data point is away from the mean of a dataset."
   ]
  },
  {
   "cell_type": "code",
   "execution_count": null,
   "id": "b9415002-7f52-42c1-8dba-f393a45e3154",
   "metadata": {},
   "outputs": [],
   "source": [
    "# 17.What are point estimates and interval estimates in statistics?\n",
    "# A point estimate is a single value that is used  to estimate the true value of a population parameter.\n",
    "# interval estimate estimate the value between a specific range."
   ]
  },
  {
   "cell_type": "code",
   "execution_count": null,
   "id": "6340fafc-9807-46b8-a134-b607eb1dee19",
   "metadata": {},
   "outputs": [],
   "source": [
    "# 18.What is the significance of confidence intervals in statistical analysis?\n",
    "# Confidence intervals in statistical analysis provide a range of plausible values for an unknown population parameter, \n",
    "# reflecting the uncertainty associated with estimates derived from sample data"
   ]
  },
  {
   "cell_type": "code",
   "execution_count": null,
   "id": "a016ecea-be4d-4cd1-bdbb-b8f631756a97",
   "metadata": {},
   "outputs": [],
   "source": [
    "# 19. What is the relationship between a Z-score and a confidence interval?\n",
    "# A Z-score and a confidence interval are related in that the Z-score is used to calculate the margin of error, which in turn defines \n",
    "# the width of the confidence interval."
   ]
  },
  {
   "cell_type": "code",
   "execution_count": null,
   "id": "71092c50-a782-4fbb-a7a2-65320cafc20b",
   "metadata": {},
   "outputs": [],
   "source": [
    "# 20. How are Z-scores used to compare different distributions?\n",
    "# Z-scores are used to compare data from different distributions by standardizing the values. This means converting raw scores \n",
    "# into a common scale based on standard deviations from the mean,allowing for direct comparison regardless of the original scale"
   ]
  },
  {
   "cell_type": "code",
   "execution_count": null,
   "id": "fc824f75-72b4-4985-8705-e185eaaf4317",
   "metadata": {},
   "outputs": [],
   "source": [
    "# 21.What are the assumptions for applying the Central Limit Theorem?\n",
    "# The number of sample should  be large.\n",
    "# The sample size should be greater than or equal to 30."
   ]
  },
  {
   "cell_type": "code",
   "execution_count": null,
   "id": "7b315315-4715-4400-ba32-61c255f20dd7",
   "metadata": {},
   "outputs": [],
   "source": [
    "# 22.What is the concept of expected value in a probability distribution?\n",
    "# he expected value in a probability distribution represents the average outcome you would expect if you were to repeat a random experiment many times.\n",
    "# It's a measure of the central tendency of the distribution, essentially the \"long-run\" average. "
   ]
  },
  {
   "cell_type": "code",
   "execution_count": null,
   "id": "cba79974-212b-42f9-a838-7d6896d30769",
   "metadata": {},
   "outputs": [],
   "source": [
    "# 23. How does a probability distribution relate to the expected outcome of a random variable?\n",
    "# A probability distribution defines the likelihood of each possible outcome of a random variable, and the expected value is a way \n",
    "# to summarize this distribution into a single, representative number"
   ]
  }
 ],
 "metadata": {
  "kernelspec": {
   "display_name": "Python 3 (ipykernel)",
   "language": "python",
   "name": "python3"
  },
  "language_info": {
   "codemirror_mode": {
    "name": "ipython",
    "version": 3
   },
   "file_extension": ".py",
   "mimetype": "text/x-python",
   "name": "python",
   "nbconvert_exporter": "python",
   "pygments_lexer": "ipython3",
   "version": "3.11.7"
  }
 },
 "nbformat": 4,
 "nbformat_minor": 5
}
